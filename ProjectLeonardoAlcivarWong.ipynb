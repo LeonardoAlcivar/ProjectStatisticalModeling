{
 "cells": [
  {
   "cell_type": "code",
   "execution_count": 31,
   "metadata": {},
   "outputs": [
    {
     "name": "stdout",
     "output_type": "stream",
     "text": [
      "The rpy2.ipython extension is already loaded. To reload it, use:\n",
      "  %reload_ext rpy2.ipython\n"
     ]
    }
   ],
   "source": [
    "%load_ext rpy2.ipython"
   ]
  },
  {
   "cell_type": "code",
   "execution_count": 80,
   "metadata": {},
   "outputs": [],
   "source": [
    "# install.packages(c(\"fastAdaboost\", \"caTools\", \"smotefamily\", \"dummies\", \"caret\", \"pROC\", \"stats\", \"fpc\", \"ggplot2\", \"gridExtra\",  \"ggpubr\", \n",
    "#  \"plotly\", \"dplyr\", \"MASS\", \"rootSolve\", \"lattice\"))"
   ]
  },
  {
   "cell_type": "code",
   "execution_count": 123,
   "metadata": {},
   "outputs": [],
   "source": [
    "import math\n",
    "import plotly\n",
    "import plotly.plotly as py\n",
    "import plotly.figure_factory as ff\n",
    "import plotly.graph_objs as go\n",
    "import pandas as pd\n",
    "import numpy as np \n",
    "import seaborn as sns\n",
    "import matplotlib.pyplot as plt "
   ]
  },
  {
   "cell_type": "code",
   "execution_count": 124,
   "metadata": {
    "scrolled": true
   },
   "outputs": [],
   "source": [
    "%%R\n",
    "library(\"fastAdaboost\") #Required to fit the AdaBoost Model\n",
    "library(\"caTools\") # Required to fit the LogitBoostModel\n",
    "library(\"smotefamily\") #Required to apply the SMOTE algorithm to expand the data\n",
    "library(\"dummies\") #Required for the 1-hot Encoding\n",
    "library(\"caret\") # Required for data separation and training/testing tasks\n",
    "library(\"pROC\") # Required to plot the ROC curves\n",
    "library(\"stats\") # Required for the computing efficient algorithm of minimization\n",
    "library(\"fpc\") \n",
    "library(\"ggplot2\") #Required for plotting\n",
    "library(\"gridExtra\") \n",
    "library(\"ggpubr\")\n",
    "library(\"plotly\")\n",
    "library(\"dplyr\")\n",
    "library(\"MASS\")\n",
    "library(\"rootSolve\")\n",
    "library(\"lattice\")"
   ]
  },
  {
   "cell_type": "code",
   "execution_count": 125,
   "metadata": {},
   "outputs": [],
   "source": [
    "plotly.tools.set_credentials_file(username='LeonardoAlcivarWong', api_key='whWtTchoGGcxtT0tNk1a') #Access to the plotly API"
   ]
  },
  {
   "cell_type": "code",
   "execution_count": 126,
   "metadata": {},
   "outputs": [],
   "source": [
    "%%R\n",
    "options(expressions=500000) # Increasing the maximum number of iterations and depth of recursion available"
   ]
  },
  {
   "cell_type": "code",
   "execution_count": 127,
   "metadata": {},
   "outputs": [],
   "source": [
    "def correlation_matrix(df):\n",
    "    corr = df.corr()\n",
    "    # Generate a mask for the upper triangle\n",
    "    mask = np.zeros_like(corr, dtype=np.bool)\n",
    "    mask[np.triu_indices_from(mask)] = True\n",
    "\n",
    "    # Set up the matplotlib figure\n",
    "    f, ax = plt.subplots(figsize=(11.7, 8.27))\n",
    "\n",
    "    # Generate a custom diverging colormap\n",
    "    cmap = sns.diverging_palette(220, 10, as_cmap=True)\n",
    "\n",
    "    # Draw the heatmap with the mask and correct aspect ratio\n",
    "    \n",
    "    return sns.heatmap(corr, mask=mask, cmap=cmap, vmax=.3, center=0,\n",
    "            square=True, linewidths=.5, cbar_kws={\"shrink\": .5})\n",
    "\n",
    "def boxdiag(df, x, title):  #Function to create boxplots using Plotly\n",
    "    \n",
    "    df_diag = df[[x, \"diagnosis\"]]\n",
    "    df_positive = df_diag.loc[df_diag[\"diagnosis\"]== \"1\"]\n",
    "    df_negative = df_diag.loc[df_diag[\"diagnosis\"]== \"-1\"]\n",
    "    \n",
    "    trace0 = go.Box(\n",
    "        y =df_positive[x],\n",
    "        name ='Altered Semen',\n",
    "        jitter = 0.3,\n",
    "        pointpos = -1.8,\n",
    "        boxpoints = 'all',\n",
    "        marker=dict(\n",
    "            color='rgb(8, 81, 156)',\n",
    "        ),\n",
    "        boxmean=\"sd\"\n",
    "    )\n",
    "    \n",
    "    trace1 = go.Box(\n",
    "        y=df_negative[x],\n",
    "        name='Normal Semen',\n",
    "        jitter = 0.3,\n",
    "        pointpos = -1.8,\n",
    "        boxpoints = 'all',\n",
    "        marker=dict(\n",
    "            color='rgb(10, 140, 208)',\n",
    "        ),\n",
    "        boxmean=\"sd\"\n",
    "    )\n",
    "    \n",
    "    layout = go.Layout(\n",
    "        title = title\n",
    "        )\n",
    "    data1 = [trace0,trace1]\n",
    "    fig = go.Figure(data=data1,layout=layout)\n",
    "    return py.iplot(fig, filename = title)\n",
    "\n",
    "\n",
    "def bardiag(df, x, title):  #Function to create barplots using plotly\n",
    "    df_diag = relative_size(df, x, \"diagnosis\")\n",
    "    #df_diag = data.groupby([x, \"diagnosis\"]).size().to_frame(\"size\").reset_index()\n",
    "    df_positive = df_diag.loc[df_diag[\"diagnosis\"]== \"1\"]\n",
    "    df_negative = df_diag.loc[df_diag[\"diagnosis\"]== \"-1\"]\n",
    "    \n",
    "    trace1 = go.Bar(\n",
    "        x=df_positive[x],\n",
    "        y=df_positive[\"relative_size\"],\n",
    "        name='Altered Semen',\n",
    "        marker=dict(\n",
    "        color='rgb(8, 81, 156)'\n",
    "    )\n",
    "    )\n",
    "    trace2 = go.Bar(\n",
    "        x=df_negative[x],\n",
    "        y=df_negative[\"relative_size\"],\n",
    "        name='Normal Semen',\n",
    "        marker=dict(\n",
    "        color='rgb(10, 140, 208)'\n",
    "    )\n",
    "    )\n",
    "\n",
    "    data1 = [trace1, trace2]\n",
    "    layout = go.Layout(\n",
    "        title = title,\n",
    "        barmode='group'\n",
    "    )\n",
    "\n",
    "    fig = go.Figure(data=data1, layout=layout)\n",
    "    return py.iplot(fig, filename=title)\n",
    "\n",
    "def histdiag(df, x, title): #Function to create histograms using Plotly\n",
    "    \n",
    "    df_diag = df[[x, \"diagnosis\"]]\n",
    "    df_positive = df_diag.loc[df_diag[\"diagnosis\"]== \"1\"]\n",
    "    df_negative = df_diag.loc[df_diag[\"diagnosis\"]== \"-1\"]\n",
    "    \n",
    "    trace1 = go.Histogram(\n",
    "        x=df_positive[x],\n",
    "        opacity=0.75,\n",
    "        name='Altered Semen'\n",
    "    )\n",
    "    \n",
    "    trace2 = go.Histogram(\n",
    "        x=df_negative[x],\n",
    "        opacity=0.75,\n",
    "        name='Normal Semen'\n",
    "    )\n",
    "\n",
    "    data = [trace1, trace2]\n",
    "    layout = go.Layout(barmode='stack',\n",
    "                      title = title)\n",
    "    fig = go.Figure(data=data, layout=layout)\n",
    "\n",
    "    return py.iplot(fig, filename=title)\n",
    "\n",
    "def relative_size(df, biggroup, smallgroup): #Function to create relative size of different groups in DF\n",
    "    Biggroupsize = df.groupby([biggroup]).size().to_frame(\"size\")\n",
    "    Smallgroupsize = df.groupby([biggroup, smallgroup]).size().to_frame(\"size\").reset_index().set_index(biggroup)\n",
    "    Smallgroupsize['relative_size'] = Smallgroupsize['size'] / Biggroupsize['size'].reindex(Smallgroupsize.index)\n",
    "    return Smallgroupsize.reset_index()"
   ]
  },
  {
   "cell_type": "code",
   "execution_count": 128,
   "metadata": {},
   "outputs": [],
   "source": [
    "%%R\n",
    "quadratic_loss <- function(u){\n",
    "    return((1-u)^2)\n",
    "    }\n",
    "\n",
    "exp_loss <- function(u){\n",
    "    return(exp(-u))\n",
    "    }\n",
    "\n",
    "log_loss <- function(u){\n",
    "    return(log(1+exp(-u)))\n",
    "}\n",
    "\n",
    "hinge_loss <- function(u){\n",
    "    return(pmax(0, 1-u))\n",
    "}\n",
    "\n",
    "f <- function(x, data, loss = hinge_loss, regularisation) { #General function we are trying to minimize (see Section X)\n",
    "    y <- as.matrix(data[, ncol(data)]) \n",
    "    beta <- as.matrix(x)\n",
    "    features <- as.matrix(cbind(1, data[-ncol(data)]))\n",
    "    result <- mean(loss(y*(features%*%beta))) + (regularisation/2)*t(beta[-1])%*%beta[-1]\n",
    "    return(result)\n",
    "}\n",
    "\n",
    "gradient_descent <- function(precision, stepsize, f, xg,  loss, regularisation, ...) { #gradient descent algorithm\n",
    "    \n",
    "    x1 <- xg - stepsize*t(gradient(f = f, x = xg, data = data, loss = loss, regularisation = regularisation))\n",
    "    if (dist(rbind(t(x1),t(xg))) < precision) {\n",
    "        return(x1)\n",
    "    }\n",
    "    \n",
    "    else {\n",
    "        return(gradient_descent(precision = precision ,stepsize = stepsize, f, xg=x1, data=data, loss=loss, regularisation = regularisation))\n",
    "    }\n",
    "}\n",
    "\n",
    "\n",
    "sgd <- function(precision, stepsize, f, xg, loss, regularisation, ...) { #stochastic gradient descent algorithm\n",
    "   \n",
    "   data <- data[sample(nrow(data)),]\n",
    "    for(i in 1:nrow(data)) {\n",
    "        x1 <- xg - stepsize*t(gradient(f = f, x = xg, data = data[i,], loss = loss, regularisation = regularisation))\n",
    "    }\n",
    "    \n",
    "    if (sum(abs(gradient(f = f, x = x1, data = data, loss = loss, regularisation = regularisation)))< precision) {\n",
    "        return(x1)\n",
    "    }\n",
    "    \n",
    "    else {\n",
    "        return(sgd(precision = precision ,stepsize = stepsize, f, xg=x1, data=data, loss=loss, regularisation = regularisation))\n",
    "    }\n",
    "}\n",
    "\n",
    "classDistribution <- function(dataset.name = NULL, table = NULL, class = ncol(table)) #Function to display distributions\n",
    "{                                                                                     # of classes inside DF\n",
    "    print(paste(\"Class Distribution:\", dataset.name, sep = \" \"));\n",
    "    print(prop.table(table(table[,class])))\n",
    "    cat(\"\\n\");\n",
    "}\n"
   ]
  },
  {
   "cell_type": "markdown",
   "metadata": {},
   "source": [
    "# Large Margin Classifiers for Fertility Alterations:\n",
    "\n",
    "### Applying Different Loss Functions and Methodologies To Predict Fertility\n",
    "\n",
    "**Author**: Sixter Leonardo Alcivar Wong \n",
    "\n",
    "**Subject**: Statistical Modeling and Inference\n",
    "\n",
    "**Professor**: Omiros Papaspiliopoulos"
   ]
  },
  {
   "cell_type": "markdown",
   "metadata": {},
   "source": [
    "## Introduction"
   ]
  },
  {
   "cell_type": "markdown",
   "metadata": {},
   "source": [
    "There has been a significant decrease in semen quality in the last two decades (Gil et al, 2012). Moreover, this decrease has been related to several environmental factors, lifestyles and childhood circumstances. It is therefore important the use and test of AI methods, especially classification methods, to detect good candidates based in few observations for semen donations, improving like that efficiency in the selection process.  \n",
    "\n",
    "In this work, we will restrict ourselves to the use of large margin classification methods and some of its derivatives (boosting methods, support vector machines and logistic regression). Furthermore, we will deal to some solutions for the typical problems of medical datasets, i.e imbalanced categories and limited observations, concretely, we will focus ourselves on the use of the Synthetic Minority Over-Sampling Method proposed by Chawla (Chawla et al, 2002). \n",
    "\n",
    "Finally, we will discuss and compare the methods proposed and suggests imrpovements to be done in order to achieve better resulst.\n"
   ]
  },
  {
   "cell_type": "markdown",
   "metadata": {},
   "source": [
    "## Data"
   ]
  },
  {
   "cell_type": "markdown",
   "metadata": {},
   "source": [
    "The fertility dataset we will be analyzing is a fragment of the original one used by David Gil (Gil et al, 2012) that can be found in the UIC repository. \n",
    "\n",
    "The dataset counts with 100 observations (88 normal and 12 altered samples). The features included are: \n",
    "\n",
    "1. Season: Season in which the analysis was performed.\n",
    "2. Age: Age at the time of the analysis, which range from 18 to 36 years normalized to the range 0-1.\n",
    "3. Sitting: Hours spent sitting per day, which range form 1 to 16 normalized to the range 0-1.\n",
    "4. Childhood Diseases: Dummy variable considering the presence of childhood diseases such as chicken pox, measles or polio.\n",
    "5. Accident: Dummy variable considering the presence of a serious trauma.\n",
    "6. Surgical Intervention: Dummy variable considering the presence of a recent surgical intervention.\n",
    "7. High Fever: Categorical varibale considering the presence of high fevers in more than three months, less than three months or no fever. \n",
    "8. Alcohol: Categorical varibale analyzing alcohol consumption with categories: never, once a week, several times a week, every day and several times a day.\n",
    "9. Smoking: Categorixal variable analyzing smoking frequency with categories: never, occasional and daily.\n",
    "10. Diagnosis: Diagnosis of the semen quality (altered or normal)."
   ]
  },
  {
   "cell_type": "code",
   "execution_count": 129,
   "metadata": {},
   "outputs": [
    {
     "name": "stderr",
     "output_type": "stream",
     "text": [
      "/anaconda3/lib/python3.6/site-packages/rpy2/robjects/pandas2ri.py:191: FutureWarning:\n",
      "\n",
      "from_items is deprecated. Please use DataFrame.from_dict(dict(items), ...) instead. DataFrame.from_dict(OrderedDict(items)) may be used to preserve the key order.\n",
      "\n"
     ]
    }
   ],
   "source": [
    "%%R -o data \n",
    "data <- read.table(\"./fertility_Diagnosis.txt\", sep = \",\", header = FALSE) #Read the data and importing it as a DF\n",
    "colnames(data) <- c(\"season\", \"age\", \"chdiseases\", \"accident\", \"sintervention\", \"hfever\", \"alcohol\", \"smoking\", \"sitting\", \"diagnosis\")\n",
    "data$season <- as.factor(data$season) #Transforming categorical variables into factors\n",
    "data$chdiseases <- as.factor(data$chdiseases)\n",
    "data$accident <- as.factor(data$accident)\n",
    "data$sintervention <- as.factor(data$sintervention)\n",
    "data$hfever <- as.factor(data$hfever)\n",
    "data$alcohol <- as.factor(data$alcohol)\n",
    "data$smoking <- as.factor(data$smoking)\n",
    "data$diagnosis <- as.factor(data$diagnosis)\n",
    "\n",
    "\n",
    "levels(data$season) <- c(\"winter\", \"spring\", \"summer\", \"fall\") #Renaming the levels of the factor variables\n",
    "levels(data$chdiseases) <- c(1, 0)\n",
    "levels(data$accident) <- c(1, 0)\n",
    "levels(data$sintervention) <- c(1,0)\n",
    "levels(data$hfever) <- c(\"more3m\", \"less3m\", \"no\")\n",
    "levels(data$alcohol) <- c(\"VeryHigh\", \"High\", \"Medium\", \"Low\", \"VeryLow\")\n",
    "levels(data$smoking) <- c(\"Never\", \"Occasional\", \"Daily\")\n",
    "levels(data$diagnosis) <- c(-1, +1)"
   ]
  },
  {
   "cell_type": "markdown",
   "metadata": {},
   "source": [
    "## Descriptive Analytics"
   ]
  },
  {
   "cell_type": "markdown",
   "metadata": {},
   "source": [
    "A first look into the data let us know some facts about the population studied:\n",
    "1. In our sample of the original dataset, age range from 27 to 36 years, with an average age of 30 years.\n",
    "2. As expected, extreme behaviours such as very high alcohol or smoking consumption are rare, implying that they migh be very little informative since any relation could be mere chance.\n",
    "3. The average person in our sample sits for 7 hours a day. \n",
    "4. There is an importance imbalance between altered samples and normal ones, a problem that will be intensified when we divide the data into a training and testing set.\n",
    "\n",
    "However, in order to better identify relations we will proceed by plotting the data."
   ]
  },
  {
   "cell_type": "code",
   "execution_count": 39,
   "metadata": {
    "scrolled": false
   },
   "outputs": [
    {
     "data": {
      "text/plain": [
       "    season        age        chdiseases accident sintervention    hfever  \n",
       " winter:28   Min.   :0.500   1:13       1:56     1:49          more3m: 9  \n",
       " spring:37   1st Qu.:0.560   0:87       0:44     0:51          less3m:63  \n",
       " summer: 4   Median :0.670                                     no    :28  \n",
       " fall  :31   Mean   :0.669                                                \n",
       "             3rd Qu.:0.750                                                \n",
       "             Max.   :1.000                                                \n",
       "     alcohol         smoking      sitting       diagnosis\n",
       " VeryHigh: 1   Never     :56   Min.   :0.0600   -1:88    \n",
       " High    : 1   Occasional:23   1st Qu.:0.2500   1 :12    \n",
       " Medium  :19   Daily     :21   Median :0.3800            \n",
       " Low     :39                   Mean   :0.4068            \n",
       " VeryLow :40                   3rd Qu.:0.5000            \n",
       "                               Max.   :1.0000            \n"
      ]
     },
     "metadata": {},
     "output_type": "display_data"
    }
   ],
   "source": [
    "%%R\n",
    "summary(data)"
   ]
  },
  {
   "cell_type": "code",
   "execution_count": 40,
   "metadata": {
    "scrolled": true
   },
   "outputs": [
    {
     "data": {
      "text/html": [
       "<div>\n",
       "<style scoped>\n",
       "    .dataframe tbody tr th:only-of-type {\n",
       "        vertical-align: middle;\n",
       "    }\n",
       "\n",
       "    .dataframe tbody tr th {\n",
       "        vertical-align: top;\n",
       "    }\n",
       "\n",
       "    .dataframe thead th {\n",
       "        text-align: right;\n",
       "    }\n",
       "</style>\n",
       "<table border=\"1\" class=\"dataframe\">\n",
       "  <thead>\n",
       "    <tr style=\"text-align: right;\">\n",
       "      <th></th>\n",
       "      <th>season</th>\n",
       "      <th>age</th>\n",
       "      <th>chdiseases</th>\n",
       "      <th>accident</th>\n",
       "      <th>sintervention</th>\n",
       "      <th>hfever</th>\n",
       "      <th>alcohol</th>\n",
       "      <th>smoking</th>\n",
       "      <th>sitting</th>\n",
       "      <th>diagnosis</th>\n",
       "    </tr>\n",
       "  </thead>\n",
       "  <tbody>\n",
       "    <tr>\n",
       "      <th>count</th>\n",
       "      <td>100</td>\n",
       "      <td>100.000000</td>\n",
       "      <td>100</td>\n",
       "      <td>100</td>\n",
       "      <td>100</td>\n",
       "      <td>100</td>\n",
       "      <td>100</td>\n",
       "      <td>100</td>\n",
       "      <td>100.000000</td>\n",
       "      <td>100</td>\n",
       "    </tr>\n",
       "    <tr>\n",
       "      <th>unique</th>\n",
       "      <td>4</td>\n",
       "      <td>NaN</td>\n",
       "      <td>2</td>\n",
       "      <td>2</td>\n",
       "      <td>2</td>\n",
       "      <td>3</td>\n",
       "      <td>5</td>\n",
       "      <td>3</td>\n",
       "      <td>NaN</td>\n",
       "      <td>2</td>\n",
       "    </tr>\n",
       "    <tr>\n",
       "      <th>top</th>\n",
       "      <td>spring</td>\n",
       "      <td>NaN</td>\n",
       "      <td>0</td>\n",
       "      <td>1</td>\n",
       "      <td>0</td>\n",
       "      <td>less3m</td>\n",
       "      <td>VeryLow</td>\n",
       "      <td>Never</td>\n",
       "      <td>NaN</td>\n",
       "      <td>-1</td>\n",
       "    </tr>\n",
       "    <tr>\n",
       "      <th>freq</th>\n",
       "      <td>37</td>\n",
       "      <td>NaN</td>\n",
       "      <td>87</td>\n",
       "      <td>56</td>\n",
       "      <td>51</td>\n",
       "      <td>63</td>\n",
       "      <td>40</td>\n",
       "      <td>56</td>\n",
       "      <td>NaN</td>\n",
       "      <td>88</td>\n",
       "    </tr>\n",
       "    <tr>\n",
       "      <th>mean</th>\n",
       "      <td>NaN</td>\n",
       "      <td>0.669000</td>\n",
       "      <td>NaN</td>\n",
       "      <td>NaN</td>\n",
       "      <td>NaN</td>\n",
       "      <td>NaN</td>\n",
       "      <td>NaN</td>\n",
       "      <td>NaN</td>\n",
       "      <td>0.406800</td>\n",
       "      <td>NaN</td>\n",
       "    </tr>\n",
       "    <tr>\n",
       "      <th>std</th>\n",
       "      <td>NaN</td>\n",
       "      <td>0.121319</td>\n",
       "      <td>NaN</td>\n",
       "      <td>NaN</td>\n",
       "      <td>NaN</td>\n",
       "      <td>NaN</td>\n",
       "      <td>NaN</td>\n",
       "      <td>NaN</td>\n",
       "      <td>0.186395</td>\n",
       "      <td>NaN</td>\n",
       "    </tr>\n",
       "    <tr>\n",
       "      <th>min</th>\n",
       "      <td>NaN</td>\n",
       "      <td>0.500000</td>\n",
       "      <td>NaN</td>\n",
       "      <td>NaN</td>\n",
       "      <td>NaN</td>\n",
       "      <td>NaN</td>\n",
       "      <td>NaN</td>\n",
       "      <td>NaN</td>\n",
       "      <td>0.060000</td>\n",
       "      <td>NaN</td>\n",
       "    </tr>\n",
       "    <tr>\n",
       "      <th>25%</th>\n",
       "      <td>NaN</td>\n",
       "      <td>0.560000</td>\n",
       "      <td>NaN</td>\n",
       "      <td>NaN</td>\n",
       "      <td>NaN</td>\n",
       "      <td>NaN</td>\n",
       "      <td>NaN</td>\n",
       "      <td>NaN</td>\n",
       "      <td>0.250000</td>\n",
       "      <td>NaN</td>\n",
       "    </tr>\n",
       "    <tr>\n",
       "      <th>50%</th>\n",
       "      <td>NaN</td>\n",
       "      <td>0.670000</td>\n",
       "      <td>NaN</td>\n",
       "      <td>NaN</td>\n",
       "      <td>NaN</td>\n",
       "      <td>NaN</td>\n",
       "      <td>NaN</td>\n",
       "      <td>NaN</td>\n",
       "      <td>0.380000</td>\n",
       "      <td>NaN</td>\n",
       "    </tr>\n",
       "    <tr>\n",
       "      <th>75%</th>\n",
       "      <td>NaN</td>\n",
       "      <td>0.750000</td>\n",
       "      <td>NaN</td>\n",
       "      <td>NaN</td>\n",
       "      <td>NaN</td>\n",
       "      <td>NaN</td>\n",
       "      <td>NaN</td>\n",
       "      <td>NaN</td>\n",
       "      <td>0.500000</td>\n",
       "      <td>NaN</td>\n",
       "    </tr>\n",
       "    <tr>\n",
       "      <th>max</th>\n",
       "      <td>NaN</td>\n",
       "      <td>1.000000</td>\n",
       "      <td>NaN</td>\n",
       "      <td>NaN</td>\n",
       "      <td>NaN</td>\n",
       "      <td>NaN</td>\n",
       "      <td>NaN</td>\n",
       "      <td>NaN</td>\n",
       "      <td>1.000000</td>\n",
       "      <td>NaN</td>\n",
       "    </tr>\n",
       "  </tbody>\n",
       "</table>\n",
       "</div>"
      ],
      "text/plain": [
       "        season         age chdiseases accident sintervention  hfever  alcohol  \\\n",
       "count      100  100.000000        100      100           100     100      100   \n",
       "unique       4         NaN          2        2             2       3        5   \n",
       "top     spring         NaN          0        1             0  less3m  VeryLow   \n",
       "freq        37         NaN         87       56            51      63       40   \n",
       "mean       NaN    0.669000        NaN      NaN           NaN     NaN      NaN   \n",
       "std        NaN    0.121319        NaN      NaN           NaN     NaN      NaN   \n",
       "min        NaN    0.500000        NaN      NaN           NaN     NaN      NaN   \n",
       "25%        NaN    0.560000        NaN      NaN           NaN     NaN      NaN   \n",
       "50%        NaN    0.670000        NaN      NaN           NaN     NaN      NaN   \n",
       "75%        NaN    0.750000        NaN      NaN           NaN     NaN      NaN   \n",
       "max        NaN    1.000000        NaN      NaN           NaN     NaN      NaN   \n",
       "\n",
       "       smoking     sitting diagnosis  \n",
       "count      100  100.000000       100  \n",
       "unique       3         NaN         2  \n",
       "top      Never         NaN        -1  \n",
       "freq        56         NaN        88  \n",
       "mean       NaN    0.406800       NaN  \n",
       "std        NaN    0.186395       NaN  \n",
       "min        NaN    0.060000       NaN  \n",
       "25%        NaN    0.250000       NaN  \n",
       "50%        NaN    0.380000       NaN  \n",
       "75%        NaN    0.500000       NaN  \n",
       "max        NaN    1.000000       NaN  "
      ]
     },
     "execution_count": 40,
     "metadata": {},
     "output_type": "execute_result"
    }
   ],
   "source": [
    "data.describe(include = \"all\")"
   ]
  },
  {
   "cell_type": "code",
   "execution_count": 41,
   "metadata": {
    "scrolled": true
   },
   "outputs": [
    {
     "data": {
      "text/html": [
       "<iframe id=\"igraph\" scrolling=\"no\" style=\"border:none;\" seamless=\"seamless\" src=\"https://plot.ly/~LeonardoAlcivarWong/20.embed\" height=\"525px\" width=\"100%\"></iframe>"
      ],
      "text/plain": [
       "<plotly.tools.PlotlyDisplay object>"
      ]
     },
     "execution_count": 41,
     "metadata": {},
     "output_type": "execute_result"
    }
   ],
   "source": [
    "bardiag(data, \"season\", \"Diagnosis by Season\")"
   ]
  },
  {
   "cell_type": "markdown",
   "metadata": {},
   "source": [
    "The graph suggests that samples collected during the fall season have more chances to be altered when we doesn't take into account the factors. \n",
    "\n",
    "(The high frequency during summer is not significant since it just imply that one of the four samples collected was altered.)"
   ]
  },
  {
   "cell_type": "code",
   "execution_count": 42,
   "metadata": {
    "scrolled": true
   },
   "outputs": [
    {
     "data": {
      "text/html": [
       "<iframe id=\"igraph\" scrolling=\"no\" style=\"border:none;\" seamless=\"seamless\" src=\"https://plot.ly/~LeonardoAlcivarWong/22.embed\" height=\"525px\" width=\"100%\"></iframe>"
      ],
      "text/plain": [
       "<plotly.tools.PlotlyDisplay object>"
      ]
     },
     "execution_count": 42,
     "metadata": {},
     "output_type": "execute_result"
    }
   ],
   "source": [
    "bardiag(data, \"alcohol\", \"Diagnosis by Alcohol Consumption\")"
   ]
  },
  {
   "cell_type": "markdown",
   "metadata": {},
   "source": [
    "Although very high and high alcohol consumption don't have any altered sample, this is due to the fact that we just have one sample for each category. Therefore, by focusing on the other categories, we can see an increasing percentage of altered samples when we increase alcohol consumption. "
   ]
  },
  {
   "cell_type": "code",
   "execution_count": 43,
   "metadata": {
    "scrolled": true
   },
   "outputs": [
    {
     "data": {
      "text/html": [
       "<iframe id=\"igraph\" scrolling=\"no\" style=\"border:none;\" seamless=\"seamless\" src=\"https://plot.ly/~LeonardoAlcivarWong/24.embed\" height=\"525px\" width=\"100%\"></iframe>"
      ],
      "text/plain": [
       "<plotly.tools.PlotlyDisplay object>"
      ]
     },
     "execution_count": 43,
     "metadata": {},
     "output_type": "execute_result"
    }
   ],
   "source": [
    "bardiag(data, \"smoking\", \"Diagnosis by Smonking Habits\")"
   ]
  },
  {
   "cell_type": "markdown",
   "metadata": {},
   "source": [
    "There seems to be a slight increase of altered sample as we increase the frequency of smoking, it should be taken carefully due to the sutility of the increase."
   ]
  },
  {
   "cell_type": "code",
   "execution_count": 44,
   "metadata": {
    "scrolled": true
   },
   "outputs": [
    {
     "data": {
      "text/html": [
       "<iframe id=\"igraph\" scrolling=\"no\" style=\"border:none;\" seamless=\"seamless\" src=\"https://plot.ly/~LeonardoAlcivarWong/26.embed\" height=\"525px\" width=\"100%\"></iframe>"
      ],
      "text/plain": [
       "<plotly.tools.PlotlyDisplay object>"
      ]
     },
     "execution_count": 44,
     "metadata": {},
     "output_type": "execute_result"
    }
   ],
   "source": [
    "bardiag(data, \"hfever\", \"Diagnosis by Fever Condition\")"
   ]
  },
  {
   "cell_type": "markdown",
   "metadata": {},
   "source": [
    "In this case, we should focus our attention on the jump between no fever and fever in less thatn three months (given that we only got 9 observations for more than three months), suggesting a relation between fevers and altered semen."
   ]
  },
  {
   "cell_type": "code",
   "execution_count": 45,
   "metadata": {
    "scrolled": true
   },
   "outputs": [
    {
     "data": {
      "text/html": [
       "<iframe id=\"igraph\" scrolling=\"no\" style=\"border:none;\" seamless=\"seamless\" src=\"https://plot.ly/~LeonardoAlcivarWong/28.embed\" height=\"525px\" width=\"100%\"></iframe>"
      ],
      "text/plain": [
       "<plotly.tools.PlotlyDisplay object>"
      ]
     },
     "execution_count": 45,
     "metadata": {},
     "output_type": "execute_result"
    }
   ],
   "source": [
    "bardiag(data, \"chdiseases\", \"Diagnosis by Childhood Conditions\")"
   ]
  },
  {
   "cell_type": "markdown",
   "metadata": {},
   "source": [
    "From the graph we can also see certain positive relation between chilhood diseases and the proportion of altered samples. "
   ]
  },
  {
   "cell_type": "code",
   "execution_count": 46,
   "metadata": {
    "scrolled": true
   },
   "outputs": [
    {
     "data": {
      "text/html": [
       "<iframe id=\"igraph\" scrolling=\"no\" style=\"border:none;\" seamless=\"seamless\" src=\"https://plot.ly/~LeonardoAlcivarWong/30.embed\" height=\"525px\" width=\"100%\"></iframe>"
      ],
      "text/plain": [
       "<plotly.tools.PlotlyDisplay object>"
      ]
     },
     "execution_count": 46,
     "metadata": {},
     "output_type": "execute_result"
    }
   ],
   "source": [
    "bardiag(data, \"accident\", \"Diagnosis by Accident Condition\")"
   ]
  },
  {
   "cell_type": "markdown",
   "metadata": {},
   "source": [
    "Accidents also seem to have an important role in determining the proportion of altered samples (since both conditions have similar sizes and the proportion increase is of 10%)."
   ]
  },
  {
   "cell_type": "code",
   "execution_count": 47,
   "metadata": {
    "scrolled": true
   },
   "outputs": [
    {
     "data": {
      "text/html": [
       "<iframe id=\"igraph\" scrolling=\"no\" style=\"border:none;\" seamless=\"seamless\" src=\"https://plot.ly/~LeonardoAlcivarWong/32.embed\" height=\"525px\" width=\"100%\"></iframe>"
      ],
      "text/plain": [
       "<plotly.tools.PlotlyDisplay object>"
      ]
     },
     "execution_count": 47,
     "metadata": {},
     "output_type": "execute_result"
    }
   ],
   "source": [
    "bardiag(data, \"sintervention\", \"Diagnosis by Surgical Condition\")"
   ]
  },
  {
   "cell_type": "markdown",
   "metadata": {},
   "source": [
    "Contrary to the accident condition, a surgical intervention seems to decrease the percentage of altered samples, probably because of the procedures and the care a pacient have."
   ]
  },
  {
   "cell_type": "code",
   "execution_count": 48,
   "metadata": {
    "scrolled": true
   },
   "outputs": [
    {
     "data": {
      "text/html": [
       "<iframe id=\"igraph\" scrolling=\"no\" style=\"border:none;\" seamless=\"seamless\" src=\"https://plot.ly/~LeonardoAlcivarWong/34.embed\" height=\"525px\" width=\"100%\"></iframe>"
      ],
      "text/plain": [
       "<plotly.tools.PlotlyDisplay object>"
      ]
     },
     "execution_count": 48,
     "metadata": {},
     "output_type": "execute_result"
    }
   ],
   "source": [
    "boxdiag(data, \"age\", \"Diagnosis by Age\")"
   ]
  },
  {
   "cell_type": "code",
   "execution_count": 49,
   "metadata": {
    "scrolled": true
   },
   "outputs": [
    {
     "data": {
      "text/html": [
       "<iframe id=\"igraph\" scrolling=\"no\" style=\"border:none;\" seamless=\"seamless\" src=\"https://plot.ly/~LeonardoAlcivarWong/36.embed\" height=\"525px\" width=\"100%\"></iframe>"
      ],
      "text/plain": [
       "<plotly.tools.PlotlyDisplay object>"
      ]
     },
     "execution_count": 49,
     "metadata": {},
     "output_type": "execute_result"
    }
   ],
   "source": [
    "boxdiag(data, \"sitting\", \"Diagnosis by Hours Sitting\")"
   ]
  },
  {
   "cell_type": "markdown",
   "metadata": {},
   "source": [
    "When looking into the continuous variables age and hours sitting it seems that means tend to be bigger in the altered sample, nevertheless the plots suggest that by themselves these two variables are not informative."
   ]
  },
  {
   "cell_type": "code",
   "execution_count": 50,
   "metadata": {
    "scrolled": true
   },
   "outputs": [
    {
     "data": {
      "text/html": [
       "<iframe id=\"igraph\" scrolling=\"no\" style=\"border:none;\" seamless=\"seamless\" src=\"https://plot.ly/~LeonardoAlcivarWong/16.embed\" height=\"525px\" width=\"100%\"></iframe>"
      ],
      "text/plain": [
       "<plotly.tools.PlotlyDisplay object>"
      ]
     },
     "execution_count": 50,
     "metadata": {},
     "output_type": "execute_result"
    }
   ],
   "source": [
    "x, y, z = data.age, data.sitting, data[\"diagnosis\"].astype(int)\n",
    "\n",
    "trace1 = go.Scatter(\n",
    "    y = y,\n",
    "    x = x,\n",
    "    mode='markers',\n",
    "    marker=dict(\n",
    "        size=10,\n",
    "        color = z, #set color equal to a variable\n",
    "        colorscale='Viridis',\n",
    "        showscale=True\n",
    "    )\n",
    ")\n",
    "data1 = [trace1]\n",
    "\n",
    "py.iplot(data1, filename='scatter-plot-with-colorscale')\n"
   ]
  },
  {
   "cell_type": "markdown",
   "metadata": {},
   "source": [
    "Note: Age on the X axis and Sitting hours in the y axis."
   ]
  },
  {
   "cell_type": "markdown",
   "metadata": {},
   "source": [
    "Moreover, we can see a similar pattern when looking at both at the same time, although it seems that altered samples tend to be in higher values of both, the classes don't appear linearly separables in these two dimensions."
   ]
  },
  {
   "cell_type": "code",
   "execution_count": 51,
   "metadata": {
    "scrolled": true
   },
   "outputs": [
    {
     "data": {
      "text/html": [
       "<iframe id=\"igraph\" scrolling=\"no\" style=\"border:none;\" seamless=\"seamless\" src=\"https://plot.ly/~LeonardoAlcivarWong/4.embed\" height=\"525px\" width=\"100%\"></iframe>"
      ],
      "text/plain": [
       "<plotly.tools.PlotlyDisplay object>"
      ]
     },
     "execution_count": 51,
     "metadata": {},
     "output_type": "execute_result"
    }
   ],
   "source": [
    "trace1 = go.Scatter3d(\n",
    "    x= data.age,\n",
    "    y= data.sitting,\n",
    "    z= data.hfever,\n",
    "    mode='markers',\n",
    "    marker=dict(\n",
    "        size=10,\n",
    "        color=pd.to_numeric(data.diagnosis),                # set color to an array/list of desired values\n",
    "        colorscale='Viridis',   # choose a colorscale\n",
    "        opacity=0.8\n",
    "    )\n",
    ")\n",
    "\n",
    "trace2 = go.Scatter3d(\n",
    "    x= data.age,\n",
    "    y= data.sitting,\n",
    "    z= data.chdiseases,\n",
    "    mode='markers',\n",
    "    marker=dict(\n",
    "        size=10,\n",
    "        color=pd.to_numeric(data.diagnosis),                # set color to an array/list of desired values\n",
    "        colorscale='Viridis',   # choose a colorscale\n",
    "        opacity=0.8\n",
    "    )\n",
    ")\n",
    "\n",
    "trace3 = go.Scatter3d(\n",
    "    x= data.age,\n",
    "    y= data.sitting,\n",
    "    z= data.sintervention,\n",
    "    mode='markers',\n",
    "    marker=dict(\n",
    "        size=10,\n",
    "        color=pd.to_numeric(data.diagnosis),                # set color to an array/list of desired values\n",
    "        colorscale='Viridis',   # choose a colorscale\n",
    "        opacity=0.8\n",
    "    )\n",
    ")\n",
    "\n",
    "trace4 = go.Scatter3d(\n",
    "    x= data.age,\n",
    "    y= data.sitting,\n",
    "    z= data.alcohol,\n",
    "    mode='markers',\n",
    "    marker=dict(\n",
    "        size=10,\n",
    "        color=pd.to_numeric(data.diagnosis),                # set color to an array/list of desired values\n",
    "        colorscale='Viridis',   # choose a colorscale\n",
    "        opacity=0.8\n",
    "    )\n",
    ")\n",
    "\n",
    "trace5 = go.Scatter3d(\n",
    "    x= data.age,\n",
    "    y= data.sitting,\n",
    "    z= data.smoking,\n",
    "    mode='markers',\n",
    "    marker=dict(\n",
    "        size=10,\n",
    "        color=pd.to_numeric(data.diagnosis),                # set color to an array/list of desired values\n",
    "        colorscale='Viridis',   # choose a colorscale\n",
    "        opacity=0.8\n",
    "    )\n",
    ")\n",
    "\n",
    "\n",
    "trace6 = go.Scatter3d(\n",
    "    x= data.age,\n",
    "    y= data.sitting,\n",
    "    z= data.accident,\n",
    "    mode='markers',\n",
    "    marker=dict(\n",
    "        size=10,\n",
    "        color=pd.to_numeric(data.diagnosis),                # set color to an array/list of desired values\n",
    "        colorscale='Viridis',   # choose a colorscale\n",
    "        opacity=0.8\n",
    "    )\n",
    ")\n",
    "\n",
    "trace7 = go.Scatter3d(\n",
    "    x= data.age,\n",
    "    y= data.sitting,\n",
    "    z= data.season,\n",
    "    mode='markers',\n",
    "    marker=dict(\n",
    "        size=10,\n",
    "        color=pd.to_numeric(data.diagnosis),                # set color to an array/list of desired values\n",
    "        colorscale='Viridis',   # choose a colorscale\n",
    "        opacity=0.8\n",
    "    )\n",
    ")\n",
    "\n",
    "\n",
    "\n",
    "\n",
    "\n",
    "\n",
    "data1 = [trace1, trace2, trace3, trace4, trace5, trace6, trace7]\n",
    "\n",
    "updatemenus = list([\n",
    "    dict(type=\"buttons\",\n",
    "         active= 0,\n",
    "         buttons=list([\n",
    "            dict(label = 'High Fever',\n",
    "                 method = 'update',\n",
    "                 args = [{'visible': [True, False, False, False, False, False, False]},\n",
    "                         {'title': 'High Fever'}]),\n",
    "            dict(label = 'Childhood Diseases',\n",
    "                 method = 'update',\n",
    "                 args = [{'visible': [False, True, False, False, False, False, False]},\n",
    "                         {'title': 'Childhood Diseases'}]),\n",
    "            dict(label = 'Surgical Intervention',\n",
    "                 method = 'update',\n",
    "                 args = [{'visible': [False, False, True, False, False, False, False]},\n",
    "                         {'title': 'Surgical Intervention'}]),\n",
    "             \n",
    "            dict(label = 'Alcohol',\n",
    "                 method = 'update',\n",
    "                 args = [{'visible': [False, False, False, True, False, False, False]},\n",
    "                         {'title': 'Alcohol'}]\n",
    "                ),\n",
    "             \n",
    "            dict(label = 'Smoking',\n",
    "                 method = 'update',\n",
    "                 args = [{'visible': [False, False, False, False, True, False, False]},\n",
    "                         {'title': 'Smoking Habits'}]\n",
    "                ),\n",
    "            \n",
    "            dict(label = 'Accident',\n",
    "                 method = 'update',\n",
    "                 args = [{'visible': [False, False, False, False, False, True, False]},\n",
    "                         {'title': 'Accident'}]\n",
    "                ),\n",
    "             \n",
    "            dict(label = 'Season',\n",
    "                 method = 'update',\n",
    "                 args = [{'visible': [False, False, False, False, False, False, True]},\n",
    "                         {'title': 'Season'}]\n",
    "                )\n",
    "             ]),\n",
    "    )\n",
    "])\n",
    "\n",
    "layout = dict(\n",
    "    title = \"3D Plot\",\n",
    "    showlegend=False,\n",
    "    updatemenus = updatemenus\n",
    ")\n",
    "\n",
    "fig = dict(data=data1, layout=layout)\n",
    "py.iplot(fig, filename='3d-scatter-colorscale')\n"
   ]
  },
  {
   "cell_type": "markdown",
   "metadata": {},
   "source": [
    "Note: Age in the X axis and Sitting hours in the Y axis. The z-axis can be selected by clicking in one of the buttons.  "
   ]
  },
  {
   "cell_type": "markdown",
   "metadata": {},
   "source": [
    "When comparing the two continuous variables with any of the categorical variables, no hyperplane seems to separate the data neither. Nevertheless, we should wait until see performance of the algorithms to understand the importance of this situation and possible solutions. "
   ]
  },
  {
   "cell_type": "markdown",
   "metadata": {},
   "source": [
    "### One-hot Encoding:"
   ]
  },
  {
   "cell_type": "markdown",
   "metadata": {},
   "source": [
    "Before proceeding with the implementation of the large margin classifiers, we encoded the categorical variables into dummy variables."
   ]
  },
  {
   "cell_type": "code",
   "execution_count": 130,
   "metadata": {},
   "outputs": [],
   "source": [
    "%%R\n",
    "# We normalize the data to have mean value equal 0 and variance equal to 1\n",
    "data <- data %>% \n",
    "         mutate_at(vars(age, sitting), funs(as.vector(scale(.))))"
   ]
  },
  {
   "cell_type": "code",
   "execution_count": 131,
   "metadata": {},
   "outputs": [],
   "source": [
    "%%R\n",
    "data <- dummy.data.frame(data, names = c(\"season\", \"chdiseases\", \"accident\", \"sintervention\", \"hfever\", \"alcohol\",\n",
    "                                \"smoking\"))\n",
    "# We delete one of the categories in order to avoid multicollinearity\n",
    "data$seasonwinter <- NULL\n",
    "data$chdiseases0 <- NULL\n",
    "data$accident0 <- NULL\n",
    "data$sintervention0 <- NULL\n",
    "data$hfeverno<- NULL\n",
    "data$alcoholVeryLow <- NULL\n",
    "data$smokingNever <- NULL\n",
    "data$diagnosis <- as.numeric(levels(data$diagnosis))[data$diagnosis]"
   ]
  },
  {
   "cell_type": "code",
   "execution_count": 91,
   "metadata": {
    "scrolled": true
   },
   "outputs": [
    {
     "data": {
      "text/plain": [
       "  seasonspring   seasonsummer    seasonfall        age           \n",
       " Min.   :0.00   Min.   :0.00   Min.   :0.00   Min.   :-1.393027  \n",
       " 1st Qu.:0.00   1st Qu.:0.00   1st Qu.:0.00   1st Qu.:-0.898461  \n",
       " Median :0.00   Median :0.00   Median :0.00   Median : 0.008243  \n",
       " Mean   :0.37   Mean   :0.04   Mean   :0.31   Mean   : 0.000000  \n",
       " 3rd Qu.:1.00   3rd Qu.:0.00   3rd Qu.:1.00   3rd Qu.: 0.667664  \n",
       " Max.   :1.00   Max.   :1.00   Max.   :1.00   Max.   : 2.728355  \n",
       "  chdiseases1     accident1    sintervention1  hfevermore3m   hfeverless3m \n",
       " Min.   :0.00   Min.   :0.00   Min.   :0.00   Min.   :0.00   Min.   :0.00  \n",
       " 1st Qu.:0.00   1st Qu.:0.00   1st Qu.:0.00   1st Qu.:0.00   1st Qu.:0.00  \n",
       " Median :0.00   Median :1.00   Median :0.00   Median :0.00   Median :1.00  \n",
       " Mean   :0.13   Mean   :0.56   Mean   :0.49   Mean   :0.09   Mean   :0.63  \n",
       " 3rd Qu.:0.00   3rd Qu.:1.00   3rd Qu.:1.00   3rd Qu.:0.00   3rd Qu.:1.00  \n",
       " Max.   :1.00   Max.   :1.00   Max.   :1.00   Max.   :1.00   Max.   :1.00  \n",
       " alcoholVeryHigh  alcoholHigh   alcoholMedium    alcoholLow   smokingOccasional\n",
       " Min.   :0.00    Min.   :0.00   Min.   :0.00   Min.   :0.00   Min.   :0.00     \n",
       " 1st Qu.:0.00    1st Qu.:0.00   1st Qu.:0.00   1st Qu.:0.00   1st Qu.:0.00     \n",
       " Median :0.00    Median :0.00   Median :0.00   Median :0.00   Median :0.00     \n",
       " Mean   :0.01    Mean   :0.01   Mean   :0.19   Mean   :0.39   Mean   :0.23     \n",
       " 3rd Qu.:0.00    3rd Qu.:0.00   3rd Qu.:0.00   3rd Qu.:1.00   3rd Qu.:0.00     \n",
       " Max.   :1.00    Max.   :1.00   Max.   :1.00   Max.   :1.00   Max.   :1.00     \n",
       "  smokingDaily     sitting          diagnosis    \n",
       " Min.   :0.00   Min.   :-1.8606   Min.   :-1.00  \n",
       " 1st Qu.:0.00   1st Qu.:-0.8412   1st Qu.:-1.00  \n",
       " Median :0.00   Median :-0.1438   Median :-1.00  \n",
       " Mean   :0.21   Mean   : 0.0000   Mean   :-0.76  \n",
       " 3rd Qu.:0.00   3rd Qu.: 0.5000   3rd Qu.:-1.00  \n",
       " Max.   :1.00   Max.   : 3.1825   Max.   : 1.00  \n"
      ]
     },
     "metadata": {},
     "output_type": "display_data"
    }
   ],
   "source": [
    "%%R\n",
    "summary(data)"
   ]
  },
  {
   "cell_type": "markdown",
   "metadata": {},
   "source": [
    "### Sampling for training and testing data"
   ]
  },
  {
   "cell_type": "code",
   "execution_count": 132,
   "metadata": {
    "scrolled": true
   },
   "outputs": [
    {
     "data": {
      "text/plain": [
       "\n",
       "\n",
       "[1] \"Class Distribution: data\"\n",
       "\n",
       "  -1    1 \n",
       "0.88 0.12 \n",
       "\n",
       "[1] \"Class Distribution: training\"\n",
       "\n",
       "       -1         1 \n",
       "0.8857143 0.1142857 \n",
       "\n",
       "[1] \"Class Distribution: test\"\n",
       "\n",
       "       -1         1 \n",
       "0.8666667 0.1333333 \n",
       "\n"
      ]
     },
     "metadata": {},
     "output_type": "display_data"
    }
   ],
   "source": [
    "%%R -o training,test \n",
    "set.seed(134)\n",
    "class <- length(data)\n",
    "\n",
    "# Set number of folds.\n",
    "k <- 1\n",
    "\n",
    "# Variable that points to active fold.\n",
    "j <- 1\n",
    "\n",
    "# Perform stratified bootstrapping (keep 70% of observations for training and 50% for testing).\n",
    "indices.training <- createDataPartition(data[,class], \n",
    "\t\t\t\t\t\t\t\t\t\ttimes = k, \n",
    "\t\t\t\t\t\t\t\t\t\tp =.70, \n",
    "\t\t\t\t\t\t\t\t\t\tlist = FALSE)\n",
    "# Get training and test set.\n",
    "training <- data[indices.training[,j],]\n",
    "test  <- data[-indices.training[,j],]\n",
    "\n",
    "# Print class distribution.\n",
    "cat(\"\\n\\n\")\n",
    "classDistribution(dataset.name = \"data\",\n",
    "\t\t\t\t  table = data,\n",
    "\t\t\t\t  class = length(data))\n",
    "\n",
    "classDistribution(dataset.name = \"training\",\n",
    "\t\t\t\t  table = training,\n",
    "\t\t\t\t  class = class)\n",
    "\n",
    "classDistribution(dataset.name = \"test\",\n",
    "\t\t\t\t  table = test,\n",
    "\t\t\t\t  class = class)"
   ]
  },
  {
   "cell_type": "markdown",
   "metadata": {},
   "source": [
    "Note: As we can see, class distributions are similar between the training and the testing sets."
   ]
  },
  {
   "cell_type": "code",
   "execution_count": 56,
   "metadata": {
    "scrolled": true
   },
   "outputs": [
    {
     "data": {
      "text/html": [
       "<iframe id=\"igraph\" scrolling=\"no\" style=\"border:none;\" seamless=\"seamless\" src=\"https://plot.ly/~LeonardoAlcivarWong/38.embed\" height=\"525px\" width=\"100%\"></iframe>"
      ],
      "text/plain": [
       "<plotly.tools.PlotlyDisplay object>"
      ]
     },
     "execution_count": 56,
     "metadata": {},
     "output_type": "execute_result"
    }
   ],
   "source": [
    "x, y, z = training.age, training.sitting, training[\"diagnosis\"].astype(int)\n",
    "\n",
    "trace1 = go.Scatter(\n",
    "    y = y,\n",
    "    x = x,\n",
    "    mode='markers',\n",
    "    marker=dict(\n",
    "        size=10,\n",
    "        color = z, #set color equal to a variable\n",
    "        colorscale='Viridis',\n",
    "        showscale=True\n",
    "    )\n",
    ")\n",
    "data1 = [trace1]\n",
    "\n",
    "py.iplot(data1, filename='training')"
   ]
  },
  {
   "cell_type": "markdown",
   "metadata": {},
   "source": [
    "Note: As before, data don't seem to be linearly separable on the sitting and age variables. Moreover, we can see a clear imbalance between the two classes."
   ]
  },
  {
   "cell_type": "markdown",
   "metadata": {},
   "source": [
    "## Fitting Possible Models"
   ]
  },
  {
   "cell_type": "markdown",
   "metadata": {},
   "source": [
    "### Theoretical Background:"
   ]
  },
  {
   "cell_type": "markdown",
   "metadata": {},
   "source": [
    "The classification problem using large margin classifiers is defined as follows.\n",
    "Given a set of attributes $X = \\{X_1, ... , X_n\\}$ and a vector $Y$ of classes s.t. $Y \\in \\{-1, 1\\}$, and a training data of the form $D_n = \\{(x_i,y_i), i=1,...,n\\}$ where the pairs $(x_i, y_i)$ are viewed as independent identically distributed outcomes of $(X , Y)$ with an unknown distribution $P_{XY}$. We want to find a prediction rule $\\phi: X \\Rightarrow Y$ of the form $\\phi(X) = sign\\{f(X)\\}$ where:\n",
    "\n",
    "$$\n",
    "f(X) = h(X)^t \\beta + \\beta_0\n",
    "$$\n",
    "\n",
    "Where $h(X)$ is a weak rule classifier. For this first part, we will consider that $h(X) = X$, although this will change with the boosting algorithms. \n",
    "This prediction rule must minimize the probability of misclassification, therefore:\n",
    "\n",
    "$$\n",
    "argmin P[y \\neq \\phi(X)] = E[1_{[y\\phi(X) < 0]}] \\approx \\frac{1}{N} \\sum_{i} 1_{[y_i \\phi(X_i) < 0]} = \\frac{1}{N}\\sum_{i} 1_{[y_i(h(X)^t \\beta + \\beta_0)]}\n",
    "$$\n",
    "\n",
    "Nevertheless, this problem is NP hard, therefore we approximate this by substituting the indicator function with a convex loss function, transforming the problem into:\n",
    "\n",
    "$$\n",
    "argmin E[L[y_i(h(X)^t \\beta + \\beta_0)]] \\approx \\frac{1}{N}\\sum_{i}L[y_i(h(X)^t \\beta + \\beta_0)] + \\frac{\\lambda}{2} \\beta^t \\beta\n",
    "$$\n",
    "\n",
    "Where this expected loss is known as empirical risk.\n"
   ]
  },
  {
   "cell_type": "markdown",
   "metadata": {},
   "source": [
    "### Simple models:"
   ]
  },
  {
   "cell_type": "markdown",
   "metadata": {},
   "source": [
    "As we stated before, for this first section, we will consider $h(X) = X$ and different loss functions which are applied in other algorithms. In fact, when considering $h(X) = X$ and loss function equal to the hinge loss, we are just considering a Support Vector Machine (SVM) of soft margin (allowing for some misclassification given data not linearly separable). \n",
    "Moreover, as stated by Yoonkyung Lee (2014), by applying different loss functions we allow for different asymptotic behaviours of the resulting discriminant functions. "
   ]
  },
  {
   "cell_type": "code",
   "execution_count": 133,
   "metadata": {},
   "outputs": [],
   "source": [
    "%%R\n",
    "\n",
    "#We fit the models with different regularization parameters\n",
    "#To see the changes in the weights assigne to each variables\n",
    "regularization_graph <- function(data, loss) {\n",
    "    \n",
    "    evolution <- data.frame() \n",
    "    \n",
    "    for (i in 1:100) {\n",
    "        x0 = rep(0, ncol(data))\n",
    "        opt <- nlm(f, p = x0, data = data, loss = loss, regularisation = i/50)\n",
    "        evolution <- rbind(opt$estimate, evolution)\n",
    "        \n",
    "    }\n",
    "    \n",
    "    colnames(evolution) = c(\"constant\", \"seasonspring\", \"seasonsummer\", \"seasonfall\", \"age\", \"chdiseases1\", \"accident1\",\"sintervention1\", \"hfever<3m\", \"hfever3>m\", \"alcoholVH\", \"alcoholH\", \"alcoholM\",\n",
    "                                    \"alcoholL\", \"smokingO\", \"smokingD\", \"sitting\")\n",
    "    print(summary(evolution[-1]))\n",
    "    return(evolution)\n",
    "}\n"
   ]
  },
  {
   "cell_type": "markdown",
   "metadata": {},
   "source": [
    "#### Internal Cross-Validation: (Grid - Search)"
   ]
  },
  {
   "cell_type": "code",
   "execution_count": 134,
   "metadata": {},
   "outputs": [],
   "source": [
    "%%R\n",
    "# After obtaining different models with different lambda parameters\n",
    "# we use internal cross-validation to identify the best predictive model.\n",
    "grid_search <- function(data, estimators){\n",
    "\n",
    "grid <- data.frame()\n",
    "for (i in 1:100) {\n",
    "    predictions <- as.matrix(cbind(1, data[-ncol(data)]))%*%t(as.matrix(estimators[i,]))\n",
    "    predictions <- ifelse(predictions >= 0, 1, -1)\n",
    "    real_values <- data$class \n",
    "    accuracy <- ifelse(predictions == real_values, 1, 0)\n",
    "    grid <- rbind(sum(accuracy), grid)\n",
    "}\n",
    "\n",
    "print(\"Optimal regularization parameter\")\n",
    "print(which.max(grid[,1])/50)\n",
    "print(\"Accuracy of the model\")\n",
    "print(grid[which.max(grid[,1]),]/nrow(data))\n",
    "return(estimators[101-which.max(grid[,1]), ])\n",
    "}\n"
   ]
  },
  {
   "cell_type": "markdown",
   "metadata": {},
   "source": [
    "#### Hinge Loss with the Original Training Set"
   ]
  },
  {
   "cell_type": "markdown",
   "metadata": {},
   "source": [
    "Firstly, we will try to use this simple optimization algortihm with hinge loss. Which should behave as a support vector machine since it optimizes the same convex problem."
   ]
  },
  {
   "cell_type": "code",
   "execution_count": 59,
   "metadata": {
    "scrolled": true
   },
   "outputs": [
    {
     "data": {
      "text/plain": [
       "  seasonspring         seasonsummer          seasonfall       \n",
       " Min.   :-0.0001754   Min.   :-4.008e-04   Min.   :0.0003562  \n",
       " 1st Qu.: 0.0001137   1st Qu.:-2.816e-06   1st Qu.:0.0009725  \n",
       " Median : 0.0002484   Median :-8.919e-07   Median :0.0014380  \n",
       " Mean   : 0.0008644   Mean   :-1.153e-05   Mean   :0.0040840  \n",
       " 3rd Qu.: 0.0005789   3rd Qu.: 4.800e-09   3rd Qu.:0.0027829  \n",
       " Max.   : 0.0197700   Max.   : 2.189e-05   Max.   :0.0780109  \n",
       "      age             chdiseases1           accident1        \n",
       " Min.   :0.0001482   Min.   :-0.0104947   Min.   :0.0000368  \n",
       " 1st Qu.:0.0004235   1st Qu.:-0.0004723   1st Qu.:0.0003925  \n",
       " Median :0.0006363   Median :-0.0002089   Median :0.0006034  \n",
       " Mean   :0.0017113   Mean   :-0.0005529   Mean   :0.0017734  \n",
       " 3rd Qu.:0.0012665   3rd Qu.:-0.0001047   3rd Qu.:0.0012903  \n",
       " Max.   :0.0312601   Max.   : 0.0001784   Max.   :0.0344080  \n",
       " sintervention1         hfever<3m           hfever3>m        \n",
       " Min.   :-9.551e-03   Min.   :0.0002898   Min.   :0.0002849  \n",
       " 1st Qu.:-2.164e-04   1st Qu.:0.0005457   1st Qu.:0.0005051  \n",
       " Median :-9.498e-05   Median :0.0007918   Median :0.0007297  \n",
       " Mean   :-3.839e-04   Mean   :0.0020949   Mean   :0.0018312  \n",
       " 3rd Qu.:-2.828e-05   3rd Qu.:0.0015278   3rd Qu.:0.0014296  \n",
       " Max.   : 2.573e-04   Max.   :0.0384492   Max.   :0.0324581  \n",
       "   alcoholVH             alcoholH             alcoholM        \n",
       " Min.   :-5.773e-04   Min.   :-2.006e-04   Min.   :0.0007404  \n",
       " 1st Qu.:-4.023e-06   1st Qu.:-3.368e-06   1st Qu.:0.0014646  \n",
       " Median : 5.596e-06   Median :-6.677e-07   Median :0.0022393  \n",
       " Mean   : 7.770e-05   Mean   :-7.382e-06   Mean   :0.0062060  \n",
       " 3rd Qu.: 4.604e-05   3rd Qu.: 1.208e-07   3rd Qu.:0.0045379  \n",
       " Max.   : 1.653e-03   Max.   : 3.859e-05   Max.   :0.1179126  \n",
       "    alcoholL            smokingO             smokingD         \n",
       " Min.   :0.0006689   Min.   :-0.0336087   Min.   :-3.210e-04  \n",
       " 1st Qu.:0.0013924   1st Qu.:-0.0013163   1st Qu.: 6.392e-06  \n",
       " Median :0.0021588   Median :-0.0006253   Median : 5.088e-05  \n",
       " Mean   :0.0056891   Mean   :-0.0017292   Mean   : 1.456e-04  \n",
       " 3rd Qu.:0.0043649   3rd Qu.:-0.0003760   3rd Qu.: 1.118e-04  \n",
       " Max.   :0.1057815   Max.   :-0.0001139   Max.   : 3.393e-03  \n",
       "    sitting         \n",
       " Min.   :0.0004258  \n",
       " 1st Qu.:0.0008358  \n",
       " Median :0.0012259  \n",
       " Mean   :0.0032829  \n",
       " 3rd Qu.:0.0025097  \n",
       " Max.   :0.0606655  \n"
      ]
     },
     "metadata": {},
     "output_type": "display_data"
    }
   ],
   "source": [
    "%%R\n",
    "set.seed(134)\n",
    "SMALLHINGE <- regularization_graph(data = training, loss = hinge_loss)"
   ]
  },
  {
   "cell_type": "code",
   "execution_count": 115,
   "metadata": {
    "scrolled": false
   },
   "outputs": [
    {
     "data": {
      "text/plain": [
       "[1] \"Optimal regularization parameter\"\n",
       "[1] 0.02\n",
       "[1] \"Accuracy of the model\"\n",
       "[1] 0\n",
       "     constant seasonspring seasonsummer seasonfall        age chdiseases1\n",
       "100 -1.189427   0.01976996 -8.52569e-05 0.07801095 0.03126015 -0.01049468\n",
       "     accident1 sintervention1  hfever<3m  hfever3>m   alcoholVH      alcoholH\n",
       "100 0.03440797   -0.009551192 0.03844915 0.03245808 0.001098883 -4.287311e-05\n",
       "     alcoholM  alcoholL    smokingO    smokingD    sitting\n",
       "100 0.1179127 0.1057815 -0.03360867 0.003392961 0.06066547\n"
      ]
     },
     "metadata": {},
     "output_type": "display_data"
    },
    {
     "name": "stderr",
     "output_type": "stream",
     "text": [
      "/anaconda3/lib/python3.6/site-packages/rpy2/robjects/pandas2ri.py:191: FutureWarning:\n",
      "\n",
      "from_items is deprecated. Please use DataFrame.from_dict(dict(items), ...) instead. DataFrame.from_dict(OrderedDict(items)) may be used to preserve the key order.\n",
      "\n"
     ]
    }
   ],
   "source": [
    "%%R -o SMALLHINGE_ESTIMATOR \n",
    "SMALLHINGE_ESTIMATOR <- grid_search(training, SMALLHINGE)\n",
    "SMALLHINGE_ESTIMATOR "
   ]
  },
  {
   "cell_type": "code",
   "execution_count": 122,
   "metadata": {},
   "outputs": [
    {
     "data": {
      "text/plain": [
       "<matplotlib.axes._subplots.AxesSubplot at 0x1a29540390>"
      ]
     },
     "execution_count": 122,
     "metadata": {},
     "output_type": "execute_result"
    },
    {
     "data": {
      "image/png": "[encoded data removed]",
      "text/plain": [
       "<Figure size 842.4x595.44 with 1 Axes>"
      ]
     },
     "metadata": {},
     "output_type": "display_data"
    }
   ],
   "source": [
    "SMALLHINGE_ESTIMATOR[SMALLHINGE_ESTIMATOR.columns[1:]].plot.bar(figsize=(11.7, 8.27)) #Size of the betas"
   ]
  },
  {
   "cell_type": "markdown",
   "metadata": {},
   "source": [
    "As we can see, alcohol consumption and sitting hours tend to have important effects on the classification process."
   ]
  },
  {
   "cell_type": "code",
   "execution_count": 61,
   "metadata": {
    "scrolled": false
   },
   "outputs": [
    {
     "data": {
      "text/plain": [
       "Confusion Matrix and Statistics\n",
       "\n",
       "          Reference\n",
       "Prediction -1  1\n",
       "        -1 26  4\n",
       "        1   0  0\n",
       "                                          \n",
       "               Accuracy : 0.8667          \n",
       "                 95% CI : (0.6928, 0.9624)\n",
       "    No Information Rate : 0.8667          \n",
       "    P-Value [Acc > NIR] : 0.6292          \n",
       "                                          \n",
       "                  Kappa : 0               \n",
       " Mcnemar's Test P-Value : 0.1336          \n",
       "                                          \n",
       "            Sensitivity : 0.0000          \n",
       "            Specificity : 1.0000          \n",
       "         Pos Pred Value :    NaN          \n",
       "         Neg Pred Value : 0.8667          \n",
       "             Prevalence : 0.1333          \n",
       "         Detection Rate : 0.0000          \n",
       "   Detection Prevalence : 0.0000          \n",
       "      Balanced Accuracy : 0.5000          \n",
       "                                          \n",
       "       'Positive' Class : 1               \n",
       "                                          \n"
      ]
     },
     "metadata": {},
     "output_type": "display_data"
    }
   ],
   "source": [
    "%%R\n",
    "SMALLHINGE_PREDICTION <- as.matrix(cbind(1, test[-ncol(test)]))%*%t(as.matrix(SMALLHINGE_ESTIMATOR))\n",
    "SMALLHINGE_PREDICTION <- ifelse(SMALLHINGE_PREDICTION >= 0, 1, -1)\n",
    "confusionMatrix(as.factor(SMALLHINGE_PREDICTION), as.factor(test$diagnosis), positive = \"1\")"
   ]
  },
  {
   "cell_type": "markdown",
   "metadata": {},
   "source": [
    "However, as we can see, due to the imbalance in the dataset, the algorithm just predicts all the observations to be normal. In order to solve this imbalance we will introduce the Synthetic Minority Over-Sampling Technique before proceeding."
   ]
  },
  {
   "cell_type": "markdown",
   "metadata": {},
   "source": [
    "#### Oversampling using SMOTE (Synthetic Minority Over-Sampling Technique) Algorithm"
   ]
  },
  {
   "cell_type": "markdown",
   "metadata": {},
   "source": [
    "In order to provide the algorithm with enough altered observations SMOTE generates \"synthetic\" ones along the line segments joining the k minority class nearest neighbours (for our work we just considered 5 nearest neighbours) in the feature space. By doing so, the algorithm forces the decision region of the minority class to be more general and better defined. Moreover, although by doing so we will be biasing our algorithm towards the minority class and it will generate altered predictions even in locations that might be erroneous, in general, as shown by Chawla (Chawla et al. 2002), it increases the accuracy of the classifiers when determining minority observations and improve AUC estatistics in similar datasets as ours (Breasts cancer and Oil datasets).\n",
    "\n",
    "In fact, taking into account the area we are considering (medical tests), we consider more important an increase of the recall parameter rather than in the precision parameter, since type 2 errors are related to dramatic results whereas type 1 errors are not so relevant. \n",
    "\n",
    "\n"
   ]
  },
  {
   "cell_type": "markdown",
   "metadata": {},
   "source": [
    "##### Pseudocode:"
   ]
  },
  {
   "cell_type": "markdown",
   "metadata": {},
   "source": [
    "**Input**: Number of minority class samples T, amount of the increase of observations N%, number of nearest neighbours to be considered.\n",
    "\n",
    "**Output**: Increased dataset.\n",
    "\n",
    "**if** N < 100 \n",
    "\n",
    "$\\quad$ **then** Randomize the T minority class samples\n",
    "\n",
    "$\\quad$ $\\quad$ T = (N/100)*T\n",
    "$\\quad$ $\\quad$ N = 100\n",
    "\n",
    "**endif**\n",
    "\n",
    "N = round (N/100)\n",
    "\n",
    "k = Number of nearest neighbours\n",
    "\n",
    "**while** N $\\neq$ 0\n",
    "\n",
    "$\\quad$ Choose one of the k nearest neighbours of i\n",
    "\n",
    "$\\quad$ $\\quad$ **for** all features:\n",
    "\n",
    "$\\quad$ $\\quad$ $\\quad$ Compute the difference between observation i and one of its KNN. Compute also a random number between 0 and 1. Finally create a synthetic point adding the difference times the number calculated before to the point i.\n",
    "\n",
    "$\\quad$ $\\quad$ **endfor**\n",
    "\n",
    "$\\quad$ i++\n",
    "\n",
    "$\\quad$ N = N-1\n",
    "\n",
    "**endwhile**\n",
    "**return** new DF\n",
    "\n",
    "\n",
    "\n"
   ]
  },
  {
   "cell_type": "markdown",
   "metadata": {},
   "source": [
    "As we can see, the algorithm is meant to continuous features, and although there exists a version for categorical variables (SMOTE-N) we decided to just round the answers for simplicity in the implementation."
   ]
  },
  {
   "cell_type": "code",
   "execution_count": 135,
   "metadata": {},
   "outputs": [],
   "source": [
    "%%R -o expanded_training\n",
    "set.seed(234)\n",
    "expanded_training <- SMOTE(training[-ncol(training)], training[ncol(training)]) #Applying the SMOTE algorithm to expand the dataset\n",
    "expanded_training <- expanded_training$data\n",
    "expanded_training <- expanded_training %>%  #rounding categorical variables\n",
    "                 mutate_at(vars(seasonspring, seasonsummer, seasonfall, chdiseases1, accident1,\n",
    "                       sintervention1, hfevermore3m, hfeverless3m, alcoholVeryHigh, alcoholHigh, \n",
    "                       alcoholMedium, alcoholLow, smokingOccasional, smokingDaily), funs(round(., 0)))"
   ]
  },
  {
   "cell_type": "code",
   "execution_count": 136,
   "metadata": {},
   "outputs": [],
   "source": [
    "%%R\n",
    "expanded_training$class <- as.numeric(expanded_training$class)"
   ]
  },
  {
   "cell_type": "code",
   "execution_count": 97,
   "metadata": {
    "scrolled": true
   },
   "outputs": [
    {
     "data": {
      "text/html": [
       "<div>\n",
       "<style scoped>\n",
       "    .dataframe tbody tr th:only-of-type {\n",
       "        vertical-align: middle;\n",
       "    }\n",
       "\n",
       "    .dataframe tbody tr th {\n",
       "        vertical-align: top;\n",
       "    }\n",
       "\n",
       "    .dataframe thead th {\n",
       "        text-align: right;\n",
       "    }\n",
       "</style>\n",
       "<table border=\"1\" class=\"dataframe\">\n",
       "  <thead>\n",
       "    <tr style=\"text-align: right;\">\n",
       "      <th></th>\n",
       "      <th>seasonspring</th>\n",
       "      <th>seasonsummer</th>\n",
       "      <th>seasonfall</th>\n",
       "      <th>age</th>\n",
       "      <th>chdiseases1</th>\n",
       "      <th>accident1</th>\n",
       "      <th>sintervention1</th>\n",
       "      <th>hfevermore3m</th>\n",
       "      <th>hfeverless3m</th>\n",
       "      <th>alcoholVeryHigh</th>\n",
       "      <th>alcoholHigh</th>\n",
       "      <th>alcoholMedium</th>\n",
       "      <th>alcoholLow</th>\n",
       "      <th>smokingOccasional</th>\n",
       "      <th>smokingDaily</th>\n",
       "      <th>sitting</th>\n",
       "      <th>class</th>\n",
       "    </tr>\n",
       "  </thead>\n",
       "  <tbody>\n",
       "    <tr>\n",
       "      <th>113</th>\n",
       "      <td>1.0</td>\n",
       "      <td>0.0</td>\n",
       "      <td>0.0</td>\n",
       "      <td>1.162230</td>\n",
       "      <td>0.0</td>\n",
       "      <td>0.0</td>\n",
       "      <td>0.0</td>\n",
       "      <td>0.0</td>\n",
       "      <td>0.0</td>\n",
       "      <td>0.0</td>\n",
       "      <td>0.0</td>\n",
       "      <td>0.0</td>\n",
       "      <td>1.0</td>\n",
       "      <td>0.0</td>\n",
       "      <td>0.0</td>\n",
       "      <td>-0.143780</td>\n",
       "      <td>-1</td>\n",
       "    </tr>\n",
       "    <tr>\n",
       "      <th>114</th>\n",
       "      <td>0.0</td>\n",
       "      <td>1.0</td>\n",
       "      <td>0.0</td>\n",
       "      <td>0.914947</td>\n",
       "      <td>0.0</td>\n",
       "      <td>1.0</td>\n",
       "      <td>1.0</td>\n",
       "      <td>0.0</td>\n",
       "      <td>1.0</td>\n",
       "      <td>0.0</td>\n",
       "      <td>0.0</td>\n",
       "      <td>0.0</td>\n",
       "      <td>0.0</td>\n",
       "      <td>0.0</td>\n",
       "      <td>1.0</td>\n",
       "      <td>-1.860562</td>\n",
       "      <td>-1</td>\n",
       "    </tr>\n",
       "    <tr>\n",
       "      <th>115</th>\n",
       "      <td>0.0</td>\n",
       "      <td>0.0</td>\n",
       "      <td>0.0</td>\n",
       "      <td>0.008243</td>\n",
       "      <td>0.0</td>\n",
       "      <td>1.0</td>\n",
       "      <td>1.0</td>\n",
       "      <td>0.0</td>\n",
       "      <td>1.0</td>\n",
       "      <td>0.0</td>\n",
       "      <td>0.0</td>\n",
       "      <td>0.0</td>\n",
       "      <td>0.0</td>\n",
       "      <td>0.0</td>\n",
       "      <td>0.0</td>\n",
       "      <td>0.500013</td>\n",
       "      <td>-1</td>\n",
       "    </tr>\n",
       "    <tr>\n",
       "      <th>116</th>\n",
       "      <td>0.0</td>\n",
       "      <td>0.0</td>\n",
       "      <td>0.0</td>\n",
       "      <td>-0.486323</td>\n",
       "      <td>0.0</td>\n",
       "      <td>1.0</td>\n",
       "      <td>1.0</td>\n",
       "      <td>0.0</td>\n",
       "      <td>1.0</td>\n",
       "      <td>0.0</td>\n",
       "      <td>0.0</td>\n",
       "      <td>0.0</td>\n",
       "      <td>1.0</td>\n",
       "      <td>1.0</td>\n",
       "      <td>0.0</td>\n",
       "      <td>0.500013</td>\n",
       "      <td>-1</td>\n",
       "    </tr>\n",
       "    <tr>\n",
       "      <th>117</th>\n",
       "      <td>0.0</td>\n",
       "      <td>0.0</td>\n",
       "      <td>0.0</td>\n",
       "      <td>-0.239040</td>\n",
       "      <td>0.0</td>\n",
       "      <td>1.0</td>\n",
       "      <td>0.0</td>\n",
       "      <td>0.0</td>\n",
       "      <td>1.0</td>\n",
       "      <td>0.0</td>\n",
       "      <td>0.0</td>\n",
       "      <td>0.0</td>\n",
       "      <td>0.0</td>\n",
       "      <td>1.0</td>\n",
       "      <td>0.0</td>\n",
       "      <td>-1.163120</td>\n",
       "      <td>-1</td>\n",
       "    </tr>\n",
       "  </tbody>\n",
       "</table>\n",
       "</div>"
      ],
      "text/plain": [
       "     seasonspring  seasonsummer  seasonfall       age  chdiseases1  accident1  \\\n",
       "113           1.0           0.0         0.0  1.162230          0.0        0.0   \n",
       "114           0.0           1.0         0.0  0.914947          0.0        1.0   \n",
       "115           0.0           0.0         0.0  0.008243          0.0        1.0   \n",
       "116           0.0           0.0         0.0 -0.486323          0.0        1.0   \n",
       "117           0.0           0.0         0.0 -0.239040          0.0        1.0   \n",
       "\n",
       "     sintervention1  hfevermore3m  hfeverless3m  alcoholVeryHigh  alcoholHigh  \\\n",
       "113             0.0           0.0           0.0              0.0          0.0   \n",
       "114             1.0           0.0           1.0              0.0          0.0   \n",
       "115             1.0           0.0           1.0              0.0          0.0   \n",
       "116             1.0           0.0           1.0              0.0          0.0   \n",
       "117             0.0           0.0           1.0              0.0          0.0   \n",
       "\n",
       "     alcoholMedium  alcoholLow  smokingOccasional  smokingDaily   sitting  \\\n",
       "113            0.0         1.0                0.0           0.0 -0.143780   \n",
       "114            0.0         0.0                0.0           1.0 -1.860562   \n",
       "115            0.0         0.0                0.0           0.0  0.500013   \n",
       "116            0.0         1.0                1.0           0.0  0.500013   \n",
       "117            0.0         0.0                1.0           0.0 -1.163120   \n",
       "\n",
       "    class  \n",
       "113    -1  \n",
       "114    -1  \n",
       "115    -1  \n",
       "116    -1  \n",
       "117    -1  "
      ]
     },
     "execution_count": 97,
     "metadata": {},
     "output_type": "execute_result"
    }
   ],
   "source": [
    "expanded_training.tail()"
   ]
  },
  {
   "cell_type": "code",
   "execution_count": 65,
   "metadata": {
    "scrolled": true
   },
   "outputs": [
    {
     "data": {
      "text/html": [
       "<iframe id=\"igraph\" scrolling=\"no\" style=\"border:none;\" seamless=\"seamless\" src=\"https://plot.ly/~LeonardoAlcivarWong/18.embed\" height=\"525px\" width=\"100%\"></iframe>"
      ],
      "text/plain": [
       "<plotly.tools.PlotlyDisplay object>"
      ]
     },
     "execution_count": 65,
     "metadata": {},
     "output_type": "execute_result"
    }
   ],
   "source": [
    "x, y, z = expanded_training.age, expanded_training.sitting, expanded_training[\"class\"].astype(int)\n",
    "\n",
    "trace1 = go.Scatter(\n",
    "    y = y,\n",
    "    x = x,\n",
    "    mode='markers',\n",
    "    marker=dict(\n",
    "        size=10,\n",
    "        color = z, #set color equal to a variable\n",
    "        colorscale='Viridis',\n",
    "        showscale=True\n",
    "    )\n",
    ")\n",
    "data1 = [trace1]\n",
    "\n",
    "py.iplot(data1, filename='expanded_training')"
   ]
  },
  {
   "cell_type": "markdown",
   "metadata": {},
   "source": [
    "Note: Age in the X-axis. Sitting hours in the Y-axis."
   ]
  },
  {
   "cell_type": "markdown",
   "metadata": {},
   "source": [
    "As we can see, by expanding using the SMOTE algorithm (we have created 48 new observations) the regions of altered and normal are more visible, in fact, given the nature of SMOTE of creating observations in the lines between the minority points, now there is visible a possible linear separation in the space generated by the age and the sitting features. "
   ]
  },
  {
   "cell_type": "markdown",
   "metadata": {},
   "source": [
    "##### Hinge Loss using the Expanded Training Set"
   ]
  },
  {
   "cell_type": "code",
   "execution_count": 137,
   "metadata": {
    "scrolled": true
   },
   "outputs": [
    {
     "data": {
      "text/plain": [
       "  seasonspring       seasonsummer          seasonfall           age         \n",
       " Min.   :-0.19827   Min.   :-0.1372085   Min.   :0.05085   Min.   :0.06840  \n",
       " 1st Qu.:-0.06317   1st Qu.:-0.0158448   1st Qu.:0.06757   1st Qu.:0.09091  \n",
       " Median :-0.03357   Median :-0.0082290   Median :0.10070   Median :0.13547  \n",
       " Mean   :-0.04721   Mean   :-0.0167381   Mean   :0.14988   Mean   :0.21730  \n",
       " 3rd Qu.:-0.02252   3rd Qu.:-0.0055577   3rd Qu.:0.19752   3rd Qu.:0.26572  \n",
       " Max.   :-0.01695   Max.   : 0.0004433   Max.   :0.48631   Max.   :0.91258  \n",
       "  chdiseases1        accident1       sintervention1       hfever<3m      \n",
       " Min.   :0.04661   Min.   :0.02119   Min.   :-0.11770   Min.   :0.03814  \n",
       " 1st Qu.:0.06194   1st Qu.:0.02816   1st Qu.:-0.06279   1st Qu.:0.05068  \n",
       " Median :0.09231   Median :0.04196   Median :-0.03644   Median :0.07552  \n",
       " Mean   :0.12894   Mean   :0.07786   Mean   :-0.03744   Mean   :0.15261  \n",
       " 3rd Qu.:0.18106   3rd Qu.:0.08230   3rd Qu.:-0.02576   3rd Qu.:0.14814  \n",
       " Max.   :0.41909   Max.   :0.65134   Max.   : 0.32942   Max.   :1.23127  \n",
       "   hfever3>m           alcoholVH            alcoholH             alcoholM     \n",
       " Min.   :-0.189909   Min.   :-0.423602   Min.   :-7.085e-02   Min.   :0.0678  \n",
       " 1st Qu.:-0.031690   1st Qu.:-0.016461   1st Qu.:-1.424e-02   1st Qu.:0.0901  \n",
       " Median :-0.016458   Median :-0.008392   Median :-7.921e-03   Median :0.1343  \n",
       " Mean   :-0.035805   Mean   :-0.021982   Mean   :-1.304e-02   Mean   :0.2182  \n",
       " 3rd Qu.:-0.011115   3rd Qu.:-0.005632   3rd Qu.:-5.416e-03   3rd Qu.:0.2634  \n",
       " Max.   : 0.008766   Max.   :-0.004237   Max.   : 2.836e-05   Max.   :1.3139  \n",
       "    alcoholL           smokingO           smokingD             sitting       \n",
       " Min.   :0.004237   Min.   :-0.15551   Min.   :-0.1273886   Min.   :0.07849  \n",
       " 1st Qu.:0.005631   1st Qu.: 0.06113   1st Qu.:-0.0610937   1st Qu.:0.10431  \n",
       " Median :0.008391   Median : 0.09051   Median :-0.0322876   Median :0.15545  \n",
       " Mean   :0.042952   Mean   : 0.11856   Mean   :-0.0463432   Mean   :0.24437  \n",
       " 3rd Qu.:0.016460   3rd Qu.: 0.16801   3rd Qu.:-0.0222295   3rd Qu.:0.30491  \n",
       " Max.   :0.874972   Max.   : 0.28224   Max.   :-0.0002867   Max.   :0.88323  \n"
      ]
     },
     "metadata": {},
     "output_type": "display_data"
    }
   ],
   "source": [
    "%%R -o HINGE_NOCONST\n",
    "set.seed(134)\n",
    "HINGE <- regularization_graph(data = expanded_training, loss = hinge_loss)\n",
    "HINGE_NOCONST <- HINGE[-1]"
   ]
  },
  {
   "cell_type": "code",
   "execution_count": 138,
   "metadata": {
    "scrolled": true
   },
   "outputs": [
    {
     "data": {
      "text/plain": [
       "<matplotlib.axes._subplots.AxesSubplot at 0x1a2961fe10>"
      ]
     },
     "execution_count": 138,
     "metadata": {},
     "output_type": "execute_result"
    },
    {
     "data": {
      "image/png": "[encoded data removed]",
      "text/plain": [
       "<Figure size 842.4x595.44 with 1 Axes>"
      ]
     },
     "metadata": {},
     "output_type": "display_data"
    }
   ],
   "source": [
    "HINGE_NOCONST.plot.line(figsize=(11.7, 8.27))"
   ]
  },
  {
   "cell_type": "markdown",
   "metadata": {},
   "source": [
    "By observing the absolute size of the betas as the regularization parameter increases (from right to left) we can observe the relevant variables in determining the class of the sample. Using the Hinge loss, we can see that hours sitting, surgical interventions, alcohol consumption and age are important determinants of the class in the directions we estated by looking into the graphs. Moreover, the lambda parameter is the minimum one, implying that the data is almost linearly separable, approximating SVM with a hard-margin. "
   ]
  },
  {
   "cell_type": "code",
   "execution_count": 139,
   "metadata": {
    "scrolled": true
   },
   "outputs": [
    {
     "data": {
      "text/plain": [
       "[1] \"Optimal regularization parameter\"\n",
       "[1] 0.02\n",
       "[1] \"Accuracy of the model\"\n",
       "[1] 0.8050847\n",
       "     constant seasonspring seasonsummer seasonfall       age chdiseases1\n",
       "100 -1.751973    -0.158224 0.0004433203  0.4370078 0.9125828    0.419094\n",
       "    accident1 sintervention1 hfever<3m   hfever3>m  alcoholVH     alcoholH\n",
       "100 0.6513383      0.3294211  1.231274 0.008766341 -0.4236021 2.835685e-05\n",
       "    alcoholM alcoholL   smokingO    smokingD   sitting\n",
       "100 1.313945 0.874972 -0.1555113 -0.09826787 0.8832283\n"
      ]
     },
     "metadata": {},
     "output_type": "display_data"
    },
    {
     "name": "stderr",
     "output_type": "stream",
     "text": [
      "/anaconda3/lib/python3.6/site-packages/rpy2/robjects/pandas2ri.py:191: FutureWarning:\n",
      "\n",
      "from_items is deprecated. Please use DataFrame.from_dict(dict(items), ...) instead. DataFrame.from_dict(OrderedDict(items)) may be used to preserve the key order.\n",
      "\n"
     ]
    }
   ],
   "source": [
    "%%R -o HINGE_ESTIMATOR \n",
    "HINGE_ESTIMATOR <- grid_search(expanded_training, HINGE)\n",
    "HINGE_ESTIMATOR "
   ]
  },
  {
   "cell_type": "code",
   "execution_count": 140,
   "metadata": {},
   "outputs": [
    {
     "data": {
      "text/plain": [
       "<matplotlib.axes._subplots.AxesSubplot at 0x1a2997d470>"
      ]
     },
     "execution_count": 140,
     "metadata": {},
     "output_type": "execute_result"
    },
    {
     "data": {
      "image/png": "[encoded data removed]",
      "text/plain": [
       "<Figure size 842.4x595.44 with 1 Axes>"
      ]
     },
     "metadata": {},
     "output_type": "display_data"
    }
   ],
   "source": [
    "HINGE_ESTIMATOR[HINGE_ESTIMATOR.columns[1:]].plot.bar(figsize=(11.7, 8.27)) #Size of the betas"
   ]
  },
  {
   "cell_type": "code",
   "execution_count": 111,
   "metadata": {
    "scrolled": true
   },
   "outputs": [
    {
     "data": {
      "text/plain": [
       "Confusion Matrix and Statistics\n",
       "\n",
       "          Reference\n",
       "Prediction -1  1\n",
       "        -1 17  2\n",
       "        1   9  2\n",
       "                                          \n",
       "               Accuracy : 0.6333          \n",
       "                 95% CI : (0.4386, 0.8007)\n",
       "    No Information Rate : 0.8667          \n",
       "    P-Value [Acc > NIR] : 0.99974         \n",
       "                                          \n",
       "                  Kappa : 0.0884          \n",
       " Mcnemar's Test P-Value : 0.07044         \n",
       "                                          \n",
       "            Sensitivity : 0.50000         \n",
       "            Specificity : 0.65385         \n",
       "         Pos Pred Value : 0.18182         \n",
       "         Neg Pred Value : 0.89474         \n",
       "             Prevalence : 0.13333         \n",
       "         Detection Rate : 0.06667         \n",
       "   Detection Prevalence : 0.36667         \n",
       "      Balanced Accuracy : 0.57692         \n",
       "                                          \n",
       "       'Positive' Class : 1               \n",
       "                                          \n"
      ]
     },
     "metadata": {},
     "output_type": "display_data"
    }
   ],
   "source": [
    "%%R\n",
    "HINGE_PREDICTION <- as.matrix(cbind(1, test[-ncol(test)]))%*%t(as.matrix(HINGE_ESTIMATOR))\n",
    "HINGE_PREDICTION <- ifelse(HINGE_PREDICTION >= 0, 1, -1)\n",
    "confusionMatrix(as.factor(HINGE_PREDICTION), as.factor(test$diagnosis), positive = \"1\")"
   ]
  },
  {
   "cell_type": "markdown",
   "metadata": {},
   "source": [
    "By using the expanded the training set now the algorithm, although misclassifying some of the normal observations, is able to detect half of the altered samples, improving its recall by sacrificing some of its precision."
   ]
  },
  {
   "cell_type": "markdown",
   "metadata": {},
   "source": [
    "##### Quadratic Loss using the Expanded Training Set"
   ]
  },
  {
   "cell_type": "markdown",
   "metadata": {},
   "source": [
    "The use of the quadratic loss function is in fact an extension of the previous basic model known as Smooth SVM (in this case simplified since the Smooth SVM uses the square of the hinge loss). In contrast with the previouse loss function this one is differentiable everywhere which allow faster and more efficient methods of optimization. As stated by Lee (2000), it perform better in terms of computing time and ten-fold testing correctness percentage in cross validation."
   ]
  },
  {
   "cell_type": "code",
   "execution_count": 141,
   "metadata": {
    "scrolled": true
   },
   "outputs": [
    {
     "data": {
      "text/plain": [
       "  seasonspring       seasonsummer        seasonfall           age        \n",
       " Min.   :-0.04921   Min.   :-0.02497   Min.   :0.09208   Min.   :0.1240  \n",
       " 1st Qu.:-0.02529   1st Qu.:-0.02104   1st Qu.:0.11360   1st Qu.:0.1523  \n",
       " Median :-0.02362   Median :-0.01644   Median :0.14857   Median :0.1973  \n",
       " Mean   :-0.02340   Mean   :-0.01583   Mean   :0.17372   Mean   :0.2268  \n",
       " 3rd Qu.:-0.02080   3rd Qu.:-0.01327   3rd Qu.:0.21576   3rd Qu.:0.2802  \n",
       " Max.   :-0.01838   Max.   : 0.06885   Max.   :0.35533   Max.   :0.4600  \n",
       "  chdiseases1        accident1       sintervention1       hfever<3m      \n",
       " Min.   :0.06972   Min.   :0.02222   Min.   :-0.03141   Min.   :0.06934  \n",
       " 1st Qu.:0.08403   1st Qu.:0.02788   1st Qu.:-0.03084   1st Qu.:0.08755  \n",
       " Median :0.10633   Median :0.03839   Median :-0.02938   Median :0.11918  \n",
       " Mean   :0.11992   Mean   :0.05975   Mean   :-0.01666   Mean   :0.16493  \n",
       " 3rd Qu.:0.14707   3rd Qu.:0.06610   3rd Qu.:-0.02002   3rd Qu.:0.19009  \n",
       " Max.   :0.21669   Max.   :0.29617   Max.   : 0.12059   Max.   :0.70774  \n",
       "   hfever3>m            alcoholVH            alcoholH            alcoholM     \n",
       " Min.   :-0.0027653   Min.   :-0.435790   Min.   :-0.045883   Min.   :0.1053  \n",
       " 1st Qu.:-0.0026250   1st Qu.:-0.036724   1st Qu.:-0.019716   1st Qu.:0.1284  \n",
       " Median :-0.0023096   Median :-0.018319   Median :-0.011967   Median :0.1661  \n",
       " Mean   : 0.0058214   Mean   :-0.039583   Mean   :-0.015988   Mean   :0.2146  \n",
       " 3rd Qu.: 0.0004021   3rd Qu.:-0.012010   3rd Qu.:-0.008650   3rd Qu.:0.2444  \n",
       " Max.   : 0.1582783   Max.   :-0.008879   Max.   :-0.006792   Max.   :0.8109  \n",
       "    alcoholL          smokingO           smokingD           sitting      \n",
       " Min.   :0.02575   Min.   :-0.07382   Min.   :-0.18333   Min.   :0.1490  \n",
       " 1st Qu.:0.03865   1st Qu.: 0.06463   1st Qu.:-0.04775   1st Qu.:0.1813  \n",
       " Median :0.06508   Median : 0.07657   Median :-0.03553   Median :0.2315  \n",
       " Mean   :0.11465   Mean   : 0.07526   Mean   :-0.04443   Mean   :0.2609  \n",
       " 3rd Qu.:0.13620   3rd Qu.: 0.09170   3rd Qu.:-0.02906   3rd Qu.:0.3206  \n",
       " Max.   :0.62849   Max.   : 0.10186   Max.   :-0.02470   Max.   :0.4975  \n"
      ]
     },
     "metadata": {},
     "output_type": "display_data"
    },
    {
     "name": "stderr",
     "output_type": "stream",
     "text": [
      "/anaconda3/lib/python3.6/site-packages/rpy2/robjects/pandas2ri.py:191: FutureWarning:\n",
      "\n",
      "from_items is deprecated. Please use DataFrame.from_dict(dict(items), ...) instead. DataFrame.from_dict(OrderedDict(items)) may be used to preserve the key order.\n",
      "\n"
     ]
    }
   ],
   "source": [
    "%%R -o QUADRATIC_NOCONST\n",
    "set.seed(134)\n",
    "QUADRATIC <- regularization_graph(data = expanded_training, loss = quadratic_loss)\n",
    "QUADRATIC_NOCONST <- QUADRATIC[-1]"
   ]
  },
  {
   "cell_type": "code",
   "execution_count": 142,
   "metadata": {
    "scrolled": true
   },
   "outputs": [
    {
     "data": {
      "text/plain": [
       "<matplotlib.axes._subplots.AxesSubplot at 0x1a29a2f0b8>"
      ]
     },
     "execution_count": 142,
     "metadata": {},
     "output_type": "execute_result"
    },
    {
     "data": {
      "image/png": "[encoded data removed]",
      "text/plain": [
       "<Figure size 842.4x595.44 with 1 Axes>"
      ]
     },
     "metadata": {},
     "output_type": "display_data"
    }
   ],
   "source": [
    "QUADRATIC_NOCONST.plot.line(figsize=(11.7, 8.27))"
   ]
  },
  {
   "cell_type": "code",
   "execution_count": 143,
   "metadata": {
    "scrolled": true
   },
   "outputs": [
    {
     "data": {
      "text/plain": [
       "[1] \"Optimal regularization parameter\"\n",
       "[1] 0.12\n",
       "[1] \"Accuracy of the model\"\n",
       "[1] 0.8050847\n",
       "     constant seasonspring seasonsummer seasonfall       age chdiseases1\n",
       "95 -0.8121425  -0.02480282  -0.01585104  0.3323226 0.4171801   0.2123282\n",
       "   accident1 sintervention1 hfever<3m  hfever3>m alcoholVH    alcoholH\n",
       "95 0.1752015     0.05057027 0.4164825 0.04534406 -0.137741 -0.04166404\n",
       "    alcoholM  alcoholL   smokingO    smokingD   sitting\n",
       "95 0.4894571 0.3768059 0.06481976 -0.09480875 0.4570547\n"
      ]
     },
     "metadata": {},
     "output_type": "display_data"
    },
    {
     "name": "stderr",
     "output_type": "stream",
     "text": [
      "/anaconda3/lib/python3.6/site-packages/rpy2/robjects/pandas2ri.py:191: FutureWarning:\n",
      "\n",
      "from_items is deprecated. Please use DataFrame.from_dict(dict(items), ...) instead. DataFrame.from_dict(OrderedDict(items)) may be used to preserve the key order.\n",
      "\n"
     ]
    }
   ],
   "source": [
    "%%R -o QUADRATIC_ESTIMATOR\n",
    "QUADRATIC_ESTIMATOR <- grid_search(expanded_training, QUADRATIC)\n",
    "QUADRATIC_ESTIMATOR"
   ]
  },
  {
   "cell_type": "code",
   "execution_count": 144,
   "metadata": {},
   "outputs": [
    {
     "data": {
      "text/plain": [
       "<matplotlib.axes._subplots.AxesSubplot at 0x1a29c41e80>"
      ]
     },
     "execution_count": 144,
     "metadata": {},
     "output_type": "execute_result"
    },
    {
     "data": {
      "image/png": "[encoded data removed]",
      "text/plain": [
       "<Figure size 842.4x595.44 with 1 Axes>"
      ]
     },
     "metadata": {},
     "output_type": "display_data"
    }
   ],
   "source": [
    "QUADRATIC_ESTIMATOR[QUADRATIC_ESTIMATOR.columns[1:]].plot.bar(figsize=(11.7, 8.27)) #Size of the betas"
   ]
  },
  {
   "cell_type": "code",
   "execution_count": 115,
   "metadata": {
    "scrolled": true
   },
   "outputs": [
    {
     "data": {
      "text/plain": [
       "Confusion Matrix and Statistics\n",
       "\n",
       "          Reference\n",
       "Prediction -1  1\n",
       "        -1 17  2\n",
       "        1   9  2\n",
       "                                          \n",
       "               Accuracy : 0.6333          \n",
       "                 95% CI : (0.4386, 0.8007)\n",
       "    No Information Rate : 0.8667          \n",
       "    P-Value [Acc > NIR] : 0.99974         \n",
       "                                          \n",
       "                  Kappa : 0.0884          \n",
       " Mcnemar's Test P-Value : 0.07044         \n",
       "                                          \n",
       "            Sensitivity : 0.50000         \n",
       "            Specificity : 0.65385         \n",
       "         Pos Pred Value : 0.18182         \n",
       "         Neg Pred Value : 0.89474         \n",
       "             Prevalence : 0.13333         \n",
       "         Detection Rate : 0.06667         \n",
       "   Detection Prevalence : 0.36667         \n",
       "      Balanced Accuracy : 0.57692         \n",
       "                                          \n",
       "       'Positive' Class : 1               \n",
       "                                          \n"
      ]
     },
     "metadata": {},
     "output_type": "display_data"
    }
   ],
   "source": [
    "%%R\n",
    "QUADRATIC_PREDICTION <- as.matrix(cbind(1, test[-ncol(test)]))%*%t(as.matrix(QUADRATIC_ESTIMATOR))\n",
    "QUADRATIC_PREDICTION <- ifelse(QUADRATIC_PREDICTION >= 0, 1, -1)\n",
    "confusionMatrix(as.factor(QUADRATIC_PREDICTION), as.factor(test$diagnosis), positive = \"1\")"
   ]
  },
  {
   "cell_type": "markdown",
   "metadata": {},
   "source": [
    "Quadratic loss have similar results to the Hinge one. Although absolute values of the betas differ from the two models, importance of the betas remains the same and we obtain the same sensitivity and accuracy."
   ]
  },
  {
   "cell_type": "markdown",
   "metadata": {},
   "source": [
    "##### Exponential Loss using the Expanded Training Set"
   ]
  },
  {
   "cell_type": "markdown",
   "metadata": {},
   "source": [
    "This exponential loss function optimization can be seen as a simplistic version of the Adaboost algortihm, where instead of generating an additive model of weak learners we just try to fit a hyperplane in the feature space. Moreover, this loss function is considered to be an upperbound of the indicator loss function, implying more conservative results. "
   ]
  },
  {
   "cell_type": "code",
   "execution_count": 145,
   "metadata": {
    "scrolled": true
   },
   "outputs": [
    {
     "data": {
      "text/plain": [
       "  seasonspring       seasonsummer         seasonfall           age         \n",
       " Min.   :-0.09647   Min.   :-0.082462   Min.   :0.05296   Min.   :0.07180  \n",
       " 1st Qu.:-0.02456   1st Qu.:-0.019540   1st Qu.:0.06770   1st Qu.:0.09159  \n",
       " Median :-0.01850   Median :-0.011952   Median :0.09422   Median :0.12666  \n",
       " Mean   :-0.02093   Mean   :-0.017110   Mean   :0.14177   Mean   :0.17559  \n",
       " 3rd Qu.:-0.01475   3rd Qu.:-0.008676   3rd Qu.:0.15790   3rd Qu.:0.20693  \n",
       " Max.   :-0.01224   Max.   :-0.006825   Max.   :0.78614   Max.   :0.69650  \n",
       "  chdiseases1        accident1       sintervention1       hfever<3m      \n",
       " Min.   :0.04209   Min.   :0.01256   Min.   :-0.03783   Min.   :0.03802  \n",
       " 1st Qu.:0.05291   1st Qu.:0.01583   1st Qu.:-0.03423   1st Qu.:0.04915  \n",
       " Median :0.07170   Median :0.02172   Median :-0.02826   Median :0.06967  \n",
       " Mean   :0.09839   Mean   :0.03656   Mean   :-0.02853   Mean   :0.11404  \n",
       " 3rd Qu.:0.11434   3rd Qu.:0.03661   3rd Qu.:-0.02351   3rd Qu.:0.12111  \n",
       " Max.   :0.34309   Max.   :0.30074   Max.   :-0.01107   Max.   :0.82952  \n",
       "   hfever3>m            alcoholVH            alcoholH            alcoholM      \n",
       " Min.   :-0.0007756   Min.   :-0.312762   Min.   :-0.083895   Min.   :0.06210  \n",
       " 1st Qu.:-0.0007467   1st Qu.:-0.017990   1st Qu.:-0.012111   1st Qu.:0.07841  \n",
       " Median :-0.0005588   Median :-0.008769   Median :-0.006826   Median :0.10698  \n",
       " Mean   : 0.0109237   Mean   :-0.021979   Mean   :-0.011519   Mean   :0.16160  \n",
       " 3rd Qu.: 0.0024348   3rd Qu.:-0.005746   3rd Qu.:-0.004779   3rd Qu.:0.17283  \n",
       " Max.   : 0.3404860   Max.   :-0.004261   Max.   :-0.003683   Max.   :1.15010  \n",
       "    alcoholL           smokingO           smokingD           sitting       \n",
       " Min.   :0.008748   Min.   :-0.14537   Min.   :-0.28349   Min.   :0.08814  \n",
       " 1st Qu.:0.013875   1st Qu.: 0.04302   1st Qu.:-0.03803   1st Qu.:0.11180  \n",
       " Median :0.025707   Median : 0.05640   Median :-0.02541   Median :0.15334  \n",
       " Mean   :0.077898   Mean   : 0.06194   Mean   :-0.03647   Mean   :0.21144  \n",
       " 3rd Qu.:0.066081   3rd Qu.: 0.08061   3rd Qu.:-0.01933   3rd Qu.:0.24733  \n",
       " Max.   :1.039065   Max.   : 0.11737   Max.   :-0.01565   Max.   :0.89353  \n"
      ]
     },
     "metadata": {},
     "output_type": "display_data"
    },
    {
     "name": "stderr",
     "output_type": "stream",
     "text": [
      "/anaconda3/lib/python3.6/site-packages/rpy2/robjects/pandas2ri.py:191: FutureWarning:\n",
      "\n",
      "from_items is deprecated. Please use DataFrame.from_dict(dict(items), ...) instead. DataFrame.from_dict(OrderedDict(items)) may be used to preserve the key order.\n",
      "\n"
     ]
    }
   ],
   "source": [
    "%%R -o EXPONENTIAL_NOCONST\n",
    "set.seed(134)\n",
    "EXPONENTIAL <- regularization_graph(data = expanded_training, loss = exp_loss)\n",
    "EXPONENTIAL_NOCONST <- EXPONENTIAL[-1]"
   ]
  },
  {
   "cell_type": "code",
   "execution_count": 146,
   "metadata": {
    "scrolled": true
   },
   "outputs": [
    {
     "data": {
      "text/plain": [
       "<matplotlib.axes._subplots.AxesSubplot at 0x1a29e444e0>"
      ]
     },
     "execution_count": 146,
     "metadata": {},
     "output_type": "execute_result"
    },
    {
     "data": {
      "image/png": "[encoded data removed]",
      "text/plain": [
       "<Figure size 842.4x595.44 with 1 Axes>"
      ]
     },
     "metadata": {},
     "output_type": "display_data"
    }
   ],
   "source": [
    "EXPONENTIAL_NOCONST.plot.line(figsize=(11.7, 8.27))"
   ]
  },
  {
   "cell_type": "code",
   "execution_count": 147,
   "metadata": {
    "scrolled": true
   },
   "outputs": [
    {
     "data": {
      "text/plain": [
       "[1] \"Optimal regularization parameter\"\n",
       "[1] 0.02\n",
       "[1] \"Accuracy of the model\"\n",
       "[1] 0.8389831\n",
       "     constant seasonspring seasonsummer seasonfall       age chdiseases1\n",
       "100 -1.921685  -0.09646914  -0.08246223  0.7861394 0.6965034   0.3429353\n",
       "    accident1 sintervention1 hfever<3m hfever3>m  alcoholVH   alcoholH alcoholM\n",
       "100 0.3007358    -0.01869241 0.8295206  0.340486 -0.3127622 -0.0838949 1.150097\n",
       "    alcoholL   smokingO  smokingD   sitting\n",
       "100 1.039065 -0.1453742 -0.283487 0.8935299\n"
      ]
     },
     "metadata": {},
     "output_type": "display_data"
    },
    {
     "name": "stderr",
     "output_type": "stream",
     "text": [
      "/anaconda3/lib/python3.6/site-packages/rpy2/robjects/pandas2ri.py:191: FutureWarning:\n",
      "\n",
      "from_items is deprecated. Please use DataFrame.from_dict(dict(items), ...) instead. DataFrame.from_dict(OrderedDict(items)) may be used to preserve the key order.\n",
      "\n"
     ]
    }
   ],
   "source": [
    "%%R -o EXPONENTIAL_ESTIMATOR\n",
    "EXPONENTIAL_ESTIMATOR <- grid_search(expanded_training, EXPONENTIAL)\n",
    "EXPONENTIAL_ESTIMATOR"
   ]
  },
  {
   "cell_type": "code",
   "execution_count": 148,
   "metadata": {},
   "outputs": [
    {
     "data": {
      "text/plain": [
       "<matplotlib.axes._subplots.AxesSubplot at 0x1a2a05d9b0>"
      ]
     },
     "execution_count": 148,
     "metadata": {},
     "output_type": "execute_result"
    },
    {
     "data": {
      "image/png": "[encoded data removed]",
      "text/plain": [
       "<Figure size 842.4x595.44 with 1 Axes>"
      ]
     },
     "metadata": {},
     "output_type": "display_data"
    }
   ],
   "source": [
    "EXPONENTIAL_ESTIMATOR[EXPONENTIAL_ESTIMATOR.columns[1:]].plot.bar(figsize=(11.7, 8.27)) #Size of the betas"
   ]
  },
  {
   "cell_type": "code",
   "execution_count": 119,
   "metadata": {
    "scrolled": true
   },
   "outputs": [
    {
     "data": {
      "text/plain": [
       "Confusion Matrix and Statistics\n",
       "\n",
       "          Reference\n",
       "Prediction -1  1\n",
       "        -1 18  2\n",
       "        1   8  2\n",
       "                                          \n",
       "               Accuracy : 0.6667          \n",
       "                 95% CI : (0.4719, 0.8271)\n",
       "    No Information Rate : 0.8667          \n",
       "    P-Value [Acc > NIR] : 0.9989          \n",
       "                                          \n",
       "                  Kappa : 0.1176          \n",
       " Mcnemar's Test P-Value : 0.1138          \n",
       "                                          \n",
       "            Sensitivity : 0.50000         \n",
       "            Specificity : 0.69231         \n",
       "         Pos Pred Value : 0.20000         \n",
       "         Neg Pred Value : 0.90000         \n",
       "             Prevalence : 0.13333         \n",
       "         Detection Rate : 0.06667         \n",
       "   Detection Prevalence : 0.33333         \n",
       "      Balanced Accuracy : 0.59615         \n",
       "                                          \n",
       "       'Positive' Class : 1               \n",
       "                                          \n"
      ]
     },
     "metadata": {},
     "output_type": "display_data"
    }
   ],
   "source": [
    "%%R\n",
    "EXPONENTIAL_PREDICTION <- as.matrix(cbind(1, test[-ncol(test)]))%*%t(as.matrix(EXPONENTIAL_ESTIMATOR))\n",
    "EXPONENTIAL_PREDICTION <- ifelse(EXPONENTIAL_PREDICTION >= 0, 1, -1)\n",
    "confusionMatrix(as.factor(EXPONENTIAL_PREDICTION), as.factor(test$diagnosis), positive = \"1\")"
   ]
  },
  {
   "cell_type": "markdown",
   "metadata": {},
   "source": [
    "The exponential loss have the same sensitivity but increases accuracy. Moreover, we can see different signs on the betas, although the same ranking of magnitudes (importance) remains. "
   ]
  },
  {
   "cell_type": "markdown",
   "metadata": {},
   "source": [
    "##### Logistic Loss using the Expanded Training Set"
   ]
  },
  {
   "cell_type": "markdown",
   "metadata": {},
   "source": [
    "The function using logistic loss can be considered as a simplistic version of LogitBoost and, under certain conditions,is equal to the negative log-likelihood of a logistic regression. Nevertheless, by optimizing this function we are not modeling the conditional probabilities but directly the label of the observation."
   ]
  },
  {
   "cell_type": "code",
   "execution_count": 149,
   "metadata": {
    "scrolled": true
   },
   "outputs": [
    {
     "data": {
      "text/plain": [
       "  seasonspring        seasonsummer         seasonfall           age         \n",
       " Min.   :-0.052156   Min.   :-0.078595   Min.   :0.02933   Min.   :0.03966  \n",
       " 1st Qu.:-0.024047   1st Qu.:-0.013083   1st Qu.:0.03846   1st Qu.:0.05203  \n",
       " Median :-0.014422   Median :-0.007241   Median :0.05586   Median :0.07564  \n",
       " Mean   :-0.019213   Mean   :-0.012182   Mean   :0.09925   Mean   :0.13202  \n",
       " 3rd Qu.:-0.010282   3rd Qu.:-0.005008   3rd Qu.:0.10224   3rd Qu.:0.13845  \n",
       " Max.   :-0.007986   Max.   :-0.003828   Max.   :0.78055   Max.   :0.95735  \n",
       "  chdiseases1        accident1        sintervention1        hfever<3m      \n",
       " Min.   :0.02457   Min.   :0.007426   Min.   :-0.066965   Min.   :0.02035  \n",
       " 1st Qu.:0.03201   1st Qu.:0.009664   1st Qu.:-0.037687   1st Qu.:0.02682  \n",
       " Median :0.04591   Median :0.013852   Median :-0.023754   Median :0.03932  \n",
       " Mean   :0.07501   Mean   :0.025889   Mean   :-0.029409   Mean   :0.07681  \n",
       " 3rd Qu.:0.08140   3rd Qu.:0.024714   3rd Qu.:-0.017082   3rd Qu.:0.07370  \n",
       " Max.   :0.48274   Max.   :0.282788   Max.   : 0.001807   Max.   :0.79068  \n",
       "   hfever3>m            alcoholVH            alcoholH            alcoholM      \n",
       " Min.   :-0.0039374   Min.   :-0.229034   Min.   :-0.078978   Min.   :0.03568  \n",
       " 1st Qu.:-0.0016519   1st Qu.:-0.008282   1st Qu.:-0.007126   1st Qu.:0.04659  \n",
       " Median :-0.0008104   Median :-0.004116   Median :-0.003788   Median :0.06712  \n",
       " Mean   : 0.0006855   Mean   :-0.011616   Mean   :-0.007559   Mean   :0.11612  \n",
       " 3rd Qu.:-0.0005137   3rd Qu.:-0.002735   3rd Qu.:-0.002582   3rd Qu.:0.12035  \n",
       " Max.   : 0.1293476   Max.   :-0.002047   Max.   :-0.001959   Max.   :0.98250  \n",
       "    alcoholL           smokingO          smokingD            sitting       \n",
       " Min.   :0.001577   Min.   :0.02124   Min.   :-0.205684   Min.   :0.04970  \n",
       " 1st Qu.:0.002595   1st Qu.:0.02759   1st Qu.:-0.030275   1st Qu.:0.06501  \n",
       " Median :0.005217   Median :0.03936   Median :-0.017549   Median :0.09399  \n",
       " Mean   :0.032878   Mean   :0.05762   Mean   :-0.027501   Mean   :0.15913  \n",
       " 3rd Qu.:0.016480   3rd Qu.:0.06865   3rd Qu.:-0.012358   3rd Qu.:0.16979  \n",
       " Max.   :0.769955   Max.   :0.20778   Max.   :-0.009538   Max.   :1.09817  \n"
      ]
     },
     "metadata": {},
     "output_type": "display_data"
    },
    {
     "name": "stderr",
     "output_type": "stream",
     "text": [
      "/anaconda3/lib/python3.6/site-packages/rpy2/robjects/pandas2ri.py:191: FutureWarning:\n",
      "\n",
      "from_items is deprecated. Please use DataFrame.from_dict(dict(items), ...) instead. DataFrame.from_dict(OrderedDict(items)) may be used to preserve the key order.\n",
      "\n"
     ]
    }
   ],
   "source": [
    "%%R -o LOG_NOCONST\n",
    "set.seed(134)\n",
    "LOG <- regularization_graph(data = expanded_training, loss = log_loss)\n",
    "LOG_NOCONST <- LOG[-1]"
   ]
  },
  {
   "cell_type": "code",
   "execution_count": 150,
   "metadata": {
    "scrolled": true
   },
   "outputs": [
    {
     "data": {
      "text/plain": [
       "<matplotlib.axes._subplots.AxesSubplot at 0x1a2a259780>"
      ]
     },
     "execution_count": 150,
     "metadata": {},
     "output_type": "execute_result"
    },
    {
     "data": {
      "image/png": "[encoded data removed]",
      "text/plain": [
       "<Figure size 842.4x595.44 with 1 Axes>"
      ]
     },
     "metadata": {},
     "output_type": "display_data"
    }
   ],
   "source": [
    "LOG_NOCONST.plot.line(figsize=(11.7, 8.27))"
   ]
  },
  {
   "cell_type": "code",
   "execution_count": 151,
   "metadata": {
    "scrolled": true
   },
   "outputs": [
    {
     "data": {
      "text/plain": [
       "[1] \"Optimal regularization parameter\"\n",
       "[1] 0.02\n",
       "[1] \"Accuracy of the model\"\n",
       "[1] 0.8050847\n",
       "     constant seasonspring seasonsummer seasonfall       age chdiseases1\n",
       "100 -1.733179  -0.04188512  -0.07859488  0.7805464 0.9573509    0.482736\n",
       "    accident1 sintervention1 hfever<3m hfever3>m  alcoholVH    alcoholH\n",
       "100 0.2827875    0.001806864   0.79068 0.1293475 -0.2290342 -0.07897843\n",
       "     alcoholM  alcoholL  smokingO   smokingD sitting\n",
       "100 0.9825004 0.7699549 0.1459724 -0.2056836 1.09817\n"
      ]
     },
     "metadata": {},
     "output_type": "display_data"
    },
    {
     "name": "stderr",
     "output_type": "stream",
     "text": [
      "/anaconda3/lib/python3.6/site-packages/rpy2/robjects/pandas2ri.py:191: FutureWarning:\n",
      "\n",
      "from_items is deprecated. Please use DataFrame.from_dict(dict(items), ...) instead. DataFrame.from_dict(OrderedDict(items)) may be used to preserve the key order.\n",
      "\n"
     ]
    }
   ],
   "source": [
    "%%R -o LOG_ESTIMATOR\n",
    "LOG_ESTIMATOR <- grid_search(expanded_training, LOG)\n",
    "LOG_ESTIMATOR"
   ]
  },
  {
   "cell_type": "code",
   "execution_count": 152,
   "metadata": {},
   "outputs": [
    {
     "data": {
      "text/plain": [
       "<matplotlib.axes._subplots.AxesSubplot at 0x1a2fd5d588>"
      ]
     },
     "execution_count": 152,
     "metadata": {},
     "output_type": "execute_result"
    },
    {
     "data": {
      "image/png": "[encoded data removed]",
      "text/plain": [
       "<Figure size 842.4x595.44 with 1 Axes>"
      ]
     },
     "metadata": {},
     "output_type": "display_data"
    }
   ],
   "source": [
    "LOG_ESTIMATOR[LOG_ESTIMATOR.columns[1:]].plot.bar(figsize=(11.7, 8.27)) #Size of the betas"
   ]
  },
  {
   "cell_type": "code",
   "execution_count": 123,
   "metadata": {
    "scrolled": true
   },
   "outputs": [
    {
     "data": {
      "text/plain": [
       "Confusion Matrix and Statistics\n",
       "\n",
       "          Reference\n",
       "Prediction -1  1\n",
       "        -1 17  2\n",
       "        1   9  2\n",
       "                                          \n",
       "               Accuracy : 0.6333          \n",
       "                 95% CI : (0.4386, 0.8007)\n",
       "    No Information Rate : 0.8667          \n",
       "    P-Value [Acc > NIR] : 0.99974         \n",
       "                                          \n",
       "                  Kappa : 0.0884          \n",
       " Mcnemar's Test P-Value : 0.07044         \n",
       "                                          \n",
       "            Sensitivity : 0.50000         \n",
       "            Specificity : 0.65385         \n",
       "         Pos Pred Value : 0.18182         \n",
       "         Neg Pred Value : 0.89474         \n",
       "             Prevalence : 0.13333         \n",
       "         Detection Rate : 0.06667         \n",
       "   Detection Prevalence : 0.36667         \n",
       "      Balanced Accuracy : 0.57692         \n",
       "                                          \n",
       "       'Positive' Class : 1               \n",
       "                                          \n"
      ]
     },
     "metadata": {},
     "output_type": "display_data"
    }
   ],
   "source": [
    "%%R\n",
    "LOG_PREDICTION <- as.matrix(cbind(1, test[-ncol(test)]))%*%t(as.matrix(LOG_ESTIMATOR))\n",
    "LOG_PREDICTION <- ifelse(LOG_PREDICTION >= 0, 1, -1)\n",
    "confusionMatrix(as.factor(LOG_PREDICTION), as.factor(test$diagnosis), positive = \"1\")"
   ]
  },
  {
   "cell_type": "markdown",
   "metadata": {},
   "source": [
    "Logistic loss performs equally to the quadratic and the hinge loss models. "
   ]
  },
  {
   "cell_type": "markdown",
   "metadata": {},
   "source": [
    "**Summary of Simple Models Results**: "
   ]
  },
  {
   "cell_type": "markdown",
   "metadata": {},
   "source": [
    "Conclusively, we can see that although the models perform similarly, the exponential model outperforms the others in terms of accuracy, although all of them have the same recall. Moreover, we have identified the same pattern of relevance of the variables in all the models, being the more significant variables:\n",
    "\n",
    "1. Sitting hours.\n",
    "2. Alcohol Consumption.\n",
    "3. High Fever in less than 3 months.\n",
    "4. Smoking frequency.\n",
    "5. Age"
   ]
  },
  {
   "cell_type": "markdown",
   "metadata": {},
   "source": [
    "## Adaboost"
   ]
  },
  {
   "cell_type": "markdown",
   "metadata": {},
   "source": [
    "The Adaboost algorithm was proposed by Freund & Schapire in 1997. As the other boosting algorithms, it tries to achieve a strong learning algorithm by mixing different weak algorithms giving some weight to each of them. \n",
    "\n",
    "As stated before, these weak learners correspond to the $h(X)$ function, and generally consist on a binary decision tree that performs slightly better than selecting at random the class of the observation. Therefore, in each iteration, weights are updated in such a way that misclassified elements in the previous iterations gain importance. Each weight represent the error of misclassification of that weak learner given by the exponential loss function."
   ]
  },
  {
   "cell_type": "markdown",
   "metadata": {},
   "source": [
    "<img src=\"https://cdn-images-1.medium.com/max/1600/0*paPv7vXuq4eBHZY7.png\" alt=\"Italian Trulli\">"
   ]
  },
  {
   "cell_type": "markdown",
   "metadata": {},
   "source": [
    "Source: Medium.com, url: https://medium.com/diogo-menezes-borges/boosting-with-adaboost-and-gradient-boosting-9cbab2a1af81"
   ]
  },
  {
   "cell_type": "markdown",
   "metadata": {},
   "source": [
    "In the case of Adaboost it tries to minimize a exponential loss function of the form:\n",
    "\n",
    "\n",
    "$$\n",
    "\\sum_{i} w_i e^{-y_i(h(X)^t \\beta + \\beta_0)} \n",
    "$$\n",
    "which is considered an upper bound of the indicator function misclassification error (Schapire & Singer 1998).\n",
    "\n",
    "However it updates the weigths in such a way that misclassified observations have more relevace.\n",
    "\n",
    "Finally, it is important to remark that the use of stumps (this binary trees with just two branches and nodes) as weak learners, reduces the bias and the variance of the predictions as stated by Freudman, Hastie and Tibshirani (2000).\n"
   ]
  },
  {
   "cell_type": "markdown",
   "metadata": {},
   "source": [
    "**Pseudocode**\n",
    "\n",
    "**Input**: Sequence of N labeled examples. Number of Iterations to be performed.\n",
    "\n",
    "**Output**: The Strong learner as a weighted average of the weak learners.\n",
    "\n",
    "**For** t in 1 to T:\n",
    "\n",
    "$\\quad$ Give to every observation the same weight 1/N\n",
    "\n",
    "$\\quad$ Find a weak learner h(X) that minimizes the error term of the form:\n",
    "\n",
    "$$\n",
    "\\epsilon^{(t)} = \\frac{\\sum_{i}^{N} w_i^{(t)} 1_{[y_i \\neq h(x_i)^{(t)}]}}{\\sum_{i}^{N} w_i}\n",
    "$$\n",
    "\n",
    "$\\quad$ Compute the betas as:\n",
    "\n",
    "$$\n",
    "\\beta^{(t)} = log \\frac{1-\\epsilon^{(t)}}{\\epsilon^{(t)}}\n",
    "$$\n",
    "\n",
    "$\\quad$ Update the weight as:\n",
    "\n",
    "$$\n",
    "w_i^{(t+1)} \\Leftarrow w_i^{(t)} e^{-y_i(h(X)^t \\beta + \\beta_0)} \n",
    "$$\n",
    "\n",
    "$\\quad$ Renormalize w_i\n",
    "\n",
    "**Endfor**\n",
    "\n",
    "**Return** Optimal $h(X)^t \\beta + \\beta_0$\n"
   ]
  },
  {
   "cell_type": "markdown",
   "metadata": {},
   "source": [
    "Although this model is specific for discrete classes, it can be expanded to represent a real value probability by doing $h(x) = \\frac{1}{2} log \\frac{p(x)}{1-p(x)}$ (Friedman, Hastie and Tibshirani 2000). "
   ]
  },
  {
   "cell_type": "code",
   "execution_count": 66,
   "metadata": {},
   "outputs": [],
   "source": [
    "%%R\n",
    "#transforming classes into factors\n",
    "expanded_training$class <- as.factor(expanded_training$class)\n",
    "levels(expanded_training$class) <- c(\"Normal\",\"Altered\")\n",
    "# expanded_training$class <- as.logical(as.numeric(levels(expanded_training$class))[expanded_training$class])"
   ]
  },
  {
   "cell_type": "code",
   "execution_count": 67,
   "metadata": {},
   "outputs": [],
   "source": [
    "%%R\n",
    "training$diagnosis <- as.factor(training$diagnosis)\n",
    "levels(training$diagnosis) <- c(\"Normal\",\"Altered\")"
   ]
  },
  {
   "cell_type": "code",
   "execution_count": 68,
   "metadata": {},
   "outputs": [],
   "source": [
    "%%R\n",
    "test$diagnosis <- as.factor(test$diagnosis)\n",
    "levels(test$diagnosis) <- c(\"Normal\",\"Altered\")"
   ]
  },
  {
   "cell_type": "code",
   "execution_count": 69,
   "metadata": {},
   "outputs": [],
   "source": [
    "%%R\n",
    "set.seed(134)\n",
    "#This Grid was optimal in the majority of the replications done\n",
    "#Grid <- expand.grid(nIter = 50,\n",
    "#                    method = \"Real adaboost\")\n",
    "\n",
    "# We analyze with grid seach using internal cross validation\n",
    "control <- trainControl(method = \"repeatedcv\", \n",
    "\t\t\t\t\t\tnumber = 10, \n",
    "\t\t\t\t\t\trepeats = 5)\n",
    "\n",
    "model.training <- train(class ~ ., #Can take several seconds to compute\n",
    "\t\t\t\t\t\tdata = expanded_training, \n",
    "                        trControl = control,\n",
    "                       # tuneGrid = Grid,\n",
    "\t\t\t\t\t\tmethod = \"adaboost\")\n"
   ]
  },
  {
   "cell_type": "code",
   "execution_count": 109,
   "metadata": {},
   "outputs": [
    {
     "data": {
      "text/plain": [
       "fastAdaboost::real_adaboost(formula = .outcome ~ ., data = dat, \n",
       "    nIter = param$nIter)\n",
       ".outcome ~ .\n",
       "<environment: 0x7fecd0aad850>\n",
       "Dependent Variable: .outcome\n",
       "No of trees:50\n"
      ]
     },
     "metadata": {},
     "output_type": "display_data"
    }
   ],
   "source": [
    "%%R\n",
    "print(model.training$finalModel)"
   ]
  },
  {
   "cell_type": "code",
   "execution_count": 70,
   "metadata": {
    "scrolled": true
   },
   "outputs": [
    {
     "data": {
      "text/plain": [
       "AdaBoost Classification Trees \n",
       "\n",
       "118 samples\n",
       " 16 predictor\n",
       "  2 classes: 'Normal', 'Altered' \n",
       "\n",
       "No pre-processing\n",
       "Resampling: Cross-Validated (10 fold, repeated 5 times) \n",
       "Summary of sample sizes: 106, 106, 106, 107, 107, 106, ... \n",
       "Resampling results across tuning parameters:\n",
       "\n",
       "  nIter  method         Accuracy   Kappa    \n",
       "   50    Adaboost.M1    0.8872145  0.7752728\n",
       "   50    Real adaboost  0.9424825  0.8848167\n",
       "  100    Adaboost.M1    0.8905711  0.7823501\n",
       "  100    Real adaboost  0.9424825  0.8848167\n",
       "  150    Adaboost.M1    0.8922378  0.7856835\n",
       "  150    Real adaboost  0.9424825  0.8848167\n",
       "\n",
       "Accuracy was used to select the optimal model using the largest value.\n",
       "The final values used for the model were nIter = 50 and method = Real adaboost.\n"
      ]
     },
     "metadata": {},
     "output_type": "display_data"
    },
    {
     "data": {
      "image/png": "[encoded data removed]"
     },
     "metadata": {},
     "output_type": "display_data"
    }
   ],
   "source": [
    "%%R\n",
    "# Print basic information about our model.\n",
    "print(model.training)\n",
    "\n",
    "\n",
    "# The plot function can be used to examine the relationship between \n",
    "# the estimates of performance and the tuning parameters.\n",
    "plot(model.training, log = \"y\")"
   ]
  },
  {
   "cell_type": "markdown",
   "metadata": {},
   "source": [
    "As we can see, the preferred model is the real one over the discrete."
   ]
  },
  {
   "cell_type": "code",
   "execution_count": 71,
   "metadata": {
    "scrolled": true
   },
   "outputs": [
    {
     "data": {
      "text/plain": [
       "Confusion Matrix and Statistics\n",
       "\n",
       "          Reference\n",
       "Prediction Normal Altered\n",
       "   Normal      24       4\n",
       "   Altered      2       0\n",
       "                                          \n",
       "               Accuracy : 0.8             \n",
       "                 95% CI : (0.6143, 0.9229)\n",
       "    No Information Rate : 0.8667          \n",
       "    P-Value [Acc > NIR] : 0.9046          \n",
       "                                          \n",
       "                  Kappa : -0.0976         \n",
       " Mcnemar's Test P-Value : 0.6831          \n",
       "                                          \n",
       "            Sensitivity : 0.00000         \n",
       "            Specificity : 0.92308         \n",
       "         Pos Pred Value : 0.00000         \n",
       "         Neg Pred Value : 0.85714         \n",
       "             Prevalence : 0.13333         \n",
       "         Detection Rate : 0.00000         \n",
       "   Detection Prevalence : 0.06667         \n",
       "      Balanced Accuracy : 0.46154         \n",
       "                                          \n",
       "       'Positive' Class : Altered         \n",
       "                                          \n",
       "         Sensitivity          Specificity       Pos Pred Value \n",
       "          0.00000000           0.92307692           0.00000000 \n",
       "      Neg Pred Value            Precision               Recall \n",
       "          0.85714286           0.00000000           0.00000000 \n",
       "                  F1           Prevalence       Detection Rate \n",
       "                 NaN           0.13333333           0.00000000 \n",
       "Detection Prevalence    Balanced Accuracy \n",
       "          0.06666667           0.46153846 \n"
      ]
     },
     "metadata": {},
     "output_type": "display_data"
    }
   ],
   "source": [
    "%%R\n",
    "# Evaluate model on test set.\n",
    "model.test.pred <- predict(model.training, \n",
    "\t\t\t\t\t\t   test, \n",
    "\t\t\t\t\t\t   type = \"raw\",\n",
    "\t\t\t\t\t\t   norm.votes = TRUE)\n",
    "\n",
    "model.test.prob <- predict(model.training, \n",
    "\t\t\t\t\t\t   test, \n",
    "\t\t\t\t\t\t   type = \"prob\",\n",
    "\t\t\t\t\t\t   norm.votes = TRUE)\n",
    "\n",
    "# Compute confusion matrix.\n",
    "performance <- confusionMatrix(model.test.pred, test[, class], positive = \"Altered\")\n",
    "print(performance)\n",
    "print(performance$byClass)"
   ]
  },
  {
   "cell_type": "code",
   "execution_count": 72,
   "metadata": {
    "scrolled": true
   },
   "outputs": [
    {
     "data": {
      "image/png": "[encoded data removed]"
     },
     "metadata": {},
     "output_type": "display_data"
    }
   ],
   "source": [
    "%%R\n",
    "# Compute AUC for the model.\n",
    "model.roc <- plot.roc(predictor = model.test.prob[,2],  \n",
    "\t\t\t\t\t  test[,class],\n",
    "\t\t\t\t\t  levels = rev(levels(test[,class])),\n",
    "\t\t\t\t\t  legacy.axes = FALSE,\n",
    "\t\t\t\t\t  percent = TRUE,\n",
    "\t\t\t\t\t  mar = c(4.1,4.1,0.2,0.3),\n",
    "\t\t\t\t\t  identity.col = \"red\",\n",
    "\t\t\t\t\t  identity.lwd = 2,\n",
    "\t\t\t\t\t  smooth = FALSE,\n",
    "\t\t\t\t\t  ci = TRUE, \n",
    "\t\t\t\t\t  print.auc = TRUE,\n",
    "\t\t\t\t\t  auc.polygon.border=NULL,\n",
    "\t\t\t\t\t  lwd = 2,\n",
    "\t\t\t\t\t  cex.lab = 2.0, \n",
    "\t\t\t\t\t  cex.axis = 1.6, \n",
    "\t\t\t\t\t  font.lab = 2,\n",
    "\t\t\t\t\t  font.axis = 2,\n",
    "\t\t\t\t\t  col = \"blue\")\n"
   ]
  },
  {
   "cell_type": "markdown",
   "metadata": {},
   "source": [
    "Although the algorithm predicts some altered observations it fails in detecting the correct ones. By changing the threshold (since we are using real adaboost which predicts probabilities), we obtain an AUC of 61% which is better than random selection but is quite low, considering that a good classifier have an AUC > 70%."
   ]
  },
  {
   "cell_type": "markdown",
   "metadata": {},
   "source": [
    "## Support Vector Machine (SVM)"
   ]
  },
  {
   "cell_type": "markdown",
   "metadata": {},
   "source": [
    "The Support Vector Machine algorithm tries to build a hyperplane dividing the two classes in the feature space. To do so it minimizes a function of the form:\n",
    "\n",
    "$$\n",
    "\\frac{1}{N}\\sum_{i}max[0, 1-y_i(\\varphi(X)^t \\beta + \\beta_0)] + \\frac{\\lambda}{2} \\beta^t \\beta\n",
    "$$\n",
    "\n",
    "Where $\\varphi$ represents a kernel transformation applied to the data. \n",
    "\n",
    "The problem in fact, can be rewritten as:\n",
    "\n",
    "$$\n",
    "min_{\\gamma, \\beta, \\beta_0} \\frac{1}{2}\\beta^t \\beta + C \\sum_{i=1}^{N} \\xi\n",
    "$$\n",
    "\n",
    "such that:\n",
    "\n",
    "$$\n",
    "y_i(\\varphi(X_i)^t \\beta + \\beta_0) \\leq 1-\\xi_i \\\\\n",
    "\\xi_i \\geq 0\n",
    "$$\n",
    "\n",
    "Where the C parameter, as the $\\lambda$ parameter, represent the size of the margin obtained, implying the tolerance of misclassification. Bigger values of C look for smaller margins improving classification, whereas small values of C imply larger margins although that may imply more misclassifications. Therefore, this parameter allow the algorithm to deal with non- linearly separable data.\n",
    "\n",
    "Another tool to deal with this kind of issues is the kernel function $\\varphi$. This function transform the feature space so that a linear separation might be possible. See next figure:\n"
   ]
  },
  {
   "cell_type": "markdown",
   "metadata": {},
   "source": [
    "<img src=\"https://upload.wikimedia.org/wikipedia/commons/thumb/f/fe/Kernel_Machine.svg/2560px-Kernel_Machine.svg.png\" alt=\"Italian Trulli\">"
   ]
  },
  {
   "cell_type": "markdown",
   "metadata": {},
   "source": [
    "Source: Wikipedia. URL: https://en.wikipedia.org/wiki/Support_vector_machine"
   ]
  },
  {
   "cell_type": "markdown",
   "metadata": {},
   "source": [
    "#### Linear"
   ]
  },
  {
   "cell_type": "markdown",
   "metadata": {},
   "source": [
    "Firstly, we tried the algorithm using the linear kernel, which doesn't apply any transformation to the feature space."
   ]
  },
  {
   "cell_type": "code",
   "execution_count": 204,
   "metadata": {},
   "outputs": [],
   "source": [
    "%%R\n",
    "set.seed(134)\n",
    "Grid <- expand.grid(C = c(0,0.01, 0.05, 0.1, 0.25, 0.5, 0.75, 1, 1.25, 1.5, 1.75, 2,5))\n",
    "control <- trainControl(method = \"repeatedcv\", \n",
    "\t\t\t\t\t\tnumber = 10, \n",
    "\t\t\t\t\t\trepeats = 5)\n",
    "\n",
    "model.training <- train(class ~ ., \n",
    "\t\t\t\t\t\tdata = expanded_training, \n",
    "                        trControl = control,\n",
    "                        tuneGrid = Grid,\n",
    "\t\t\t\t\t\tmethod = \"svmLinear\")"
   ]
  },
  {
   "cell_type": "code",
   "execution_count": 205,
   "metadata": {
    "scrolled": true
   },
   "outputs": [
    {
     "data": {
      "text/plain": [
       "Support Vector Machines with Linear Kernel \n",
       "\n",
       "118 samples\n",
       " 16 predictor\n",
       "  2 classes: 'Normal', 'Altered' \n",
       "\n",
       "No pre-processing\n",
       "Resampling: Cross-Validated (10 fold, repeated 5 times) \n",
       "Summary of sample sizes: 106, 107, 106, 105, 106, 107, ... \n",
       "Resampling results across tuning parameters:\n",
       "\n",
       "  C     Accuracy   Kappa    \n",
       "  0.00        NaN        NaN\n",
       "  0.01  0.7140676  0.4104499\n",
       "  0.05  0.7301166  0.4573847\n",
       "  0.10  0.7507226  0.5020182\n",
       "  0.25  0.7781235  0.5597915\n",
       "  0.50  0.8093473  0.6227670\n",
       "  0.75  0.8243473  0.6531700\n",
       "  1.00  0.8279604  0.6599509\n",
       "  1.25  0.8329604  0.6699979\n",
       "  1.50  0.8432867  0.6899434\n",
       "  1.75  0.8466200  0.6966101\n",
       "  2.00  0.8510839  0.7053451\n",
       "  5.00  0.8576224  0.7186101\n",
       "\n",
       "Accuracy was used to select the optimal model using the largest value.\n",
       "The final value used for the model was C = 5.\n"
      ]
     },
     "metadata": {},
     "output_type": "display_data"
    }
   ],
   "source": [
    "%%R\n",
    "# Print basic information about our model.\n",
    "print(model.training)\n"
   ]
  },
  {
   "cell_type": "code",
   "execution_count": 206,
   "metadata": {
    "scrolled": true
   },
   "outputs": [
    {
     "data": {
      "text/plain": [
       "Confusion Matrix and Statistics\n",
       "\n",
       "          Reference\n",
       "Prediction Normal Altered\n",
       "   Normal      17       1\n",
       "   Altered      9       3\n",
       "                                          \n",
       "               Accuracy : 0.6667          \n",
       "                 95% CI : (0.4719, 0.8271)\n",
       "    No Information Rate : 0.8667          \n",
       "    P-Value [Acc > NIR] : 0.99889         \n",
       "                                          \n",
       "                  Kappa : 0.2187          \n",
       " Mcnemar's Test P-Value : 0.02686         \n",
       "                                          \n",
       "            Sensitivity : 0.7500          \n",
       "            Specificity : 0.6538          \n",
       "         Pos Pred Value : 0.2500          \n",
       "         Neg Pred Value : 0.9444          \n",
       "             Prevalence : 0.1333          \n",
       "         Detection Rate : 0.1000          \n",
       "   Detection Prevalence : 0.4000          \n",
       "      Balanced Accuracy : 0.7019          \n",
       "                                          \n",
       "       'Positive' Class : Altered         \n",
       "                                          \n",
       "         Sensitivity          Specificity       Pos Pred Value \n",
       "           0.7500000            0.6538462            0.2500000 \n",
       "      Neg Pred Value            Precision               Recall \n",
       "           0.9444444            0.2500000            0.7500000 \n",
       "                  F1           Prevalence       Detection Rate \n",
       "           0.3750000            0.1333333            0.1000000 \n",
       "Detection Prevalence    Balanced Accuracy \n",
       "           0.4000000            0.7019231 \n"
      ]
     },
     "metadata": {},
     "output_type": "display_data"
    }
   ],
   "source": [
    "%%R\n",
    "# Evaluate model on test set.\n",
    "model.test.pred <- predict(model.training, \n",
    "\t\t\t\t\t\t   test, \n",
    "\t\t\t\t\t\t   type = \"raw\",\n",
    "\t\t\t\t\t\t   norm.votes = TRUE)\n",
    "\n",
    "# Compute confusion matrix.\n",
    "performance <- confusionMatrix(model.test.pred, test[, class], positive = \"Altered\")\n",
    "print(performance)\n",
    "print(performance$byClass)"
   ]
  },
  {
   "cell_type": "markdown",
   "metadata": {},
   "source": [
    "As we can see, the maximum C is selected, implying a smaller margin but better classification, this might imply that in fact, data might be difficult to separate linearly. Moreover, we can see a better performance than the Adaboost and the simple models, increasing the sensitivity from 50% to 75%, while keeping the same accuracy as the others."
   ]
  },
  {
   "cell_type": "markdown",
   "metadata": {},
   "source": [
    "#### Radial or Gaussian kernel"
   ]
  },
  {
   "cell_type": "markdown",
   "metadata": {},
   "source": [
    "The Radial kernel of Gaussian kernel, transform the input feature space following the formula:\n",
    "\n",
    "$$\n",
    "K(x_i, x_j) = exp(- \\frac{\\lVert x_i - x_j \\lVert^2}{2 \\sigma^2})\n",
    "$$\n",
    "\n",
    "which is 1 when the points are close and 0 otherwise.\n",
    "\n",
    "And we can recover the features since:\n",
    "\n",
    "$$\n",
    "K(x_i, x_j) = \\varphi(x_i)^t\\varphi(x_j)\n",
    "$$"
   ]
  },
  {
   "cell_type": "code",
   "execution_count": 220,
   "metadata": {},
   "outputs": [],
   "source": [
    "%%R\n",
    "set.seed(134)\n",
    "control <- trainControl(method = \"repeatedcv\", \n",
    "\t\t\t\t\t\tnumber = 10, \n",
    "\t\t\t\t\t\trepeats = 5)\n",
    "\n",
    "model.training <- train(class ~ ., \n",
    "\t\t\t\t\t\tdata = expanded_training, \n",
    "                        trControl = control,\n",
    "\t\t\t\t\t\tmethod = \"svmRadial\")"
   ]
  },
  {
   "cell_type": "code",
   "execution_count": 221,
   "metadata": {
    "scrolled": true
   },
   "outputs": [
    {
     "data": {
      "text/plain": [
       "Support Vector Machines with Radial Basis Function Kernel \n",
       "\n",
       "118 samples\n",
       " 16 predictor\n",
       "  2 classes: 'Normal', 'Altered' \n",
       "\n",
       "No pre-processing\n",
       "Resampling: Cross-Validated (10 fold, repeated 5 times) \n",
       "Summary of sample sizes: 106, 106, 107, 107, 105, 107, ... \n",
       "Resampling results across tuning parameters:\n",
       "\n",
       "  C     Accuracy   Kappa    \n",
       "  0.25  0.7515385  0.4907189\n",
       "  0.50  0.8001865  0.5966570\n",
       "  1.00  0.8242890  0.6486602\n",
       "\n",
       "Tuning parameter 'sigma' was held constant at a value of 0.03925763\n",
       "Accuracy was used to select the optimal model using the largest value.\n",
       "The final values used for the model were sigma = 0.03925763 and C = 1.\n"
      ]
     },
     "metadata": {},
     "output_type": "display_data"
    },
    {
     "data": {
      "image/png": "[encoded data removed]"
     },
     "metadata": {},
     "output_type": "display_data"
    }
   ],
   "source": [
    "%%R\n",
    "print(model.training)\n",
    "plot(model.training)"
   ]
  },
  {
   "cell_type": "code",
   "execution_count": 222,
   "metadata": {
    "scrolled": true
   },
   "outputs": [
    {
     "data": {
      "text/plain": [
       "Confusion Matrix and Statistics\n",
       "\n",
       "          Reference\n",
       "Prediction Normal Altered\n",
       "   Normal      22       4\n",
       "   Altered      4       0\n",
       "                                          \n",
       "               Accuracy : 0.7333          \n",
       "                 95% CI : (0.5411, 0.8772)\n",
       "    No Information Rate : 0.8667          \n",
       "    P-Value [Acc > NIR] : 0.9864          \n",
       "                                          \n",
       "                  Kappa : -0.1538         \n",
       " Mcnemar's Test P-Value : 1.0000          \n",
       "                                          \n",
       "            Sensitivity : 0.0000          \n",
       "            Specificity : 0.8462          \n",
       "         Pos Pred Value : 0.0000          \n",
       "         Neg Pred Value : 0.8462          \n",
       "             Prevalence : 0.1333          \n",
       "         Detection Rate : 0.0000          \n",
       "   Detection Prevalence : 0.1333          \n",
       "      Balanced Accuracy : 0.4231          \n",
       "                                          \n",
       "       'Positive' Class : Altered         \n",
       "                                          \n",
       "         Sensitivity          Specificity       Pos Pred Value \n",
       "           0.0000000            0.8461538            0.0000000 \n",
       "      Neg Pred Value            Precision               Recall \n",
       "           0.8461538            0.0000000            0.0000000 \n",
       "                  F1           Prevalence       Detection Rate \n",
       "                 NaN            0.1333333            0.0000000 \n",
       "Detection Prevalence    Balanced Accuracy \n",
       "           0.1333333            0.4230769 \n"
      ]
     },
     "metadata": {},
     "output_type": "display_data"
    }
   ],
   "source": [
    "%%R\n",
    "# Evaluate model on test set.\n",
    "model.test.pred <- predict(model.training, \n",
    "\t\t\t\t\t\t   test, \n",
    "\t\t\t\t\t\t   type = \"raw\",\n",
    "\t\t\t\t\t\t   norm.votes = TRUE)\n",
    "\n",
    "# Compute confusion matrix.\n",
    "performance <- confusionMatrix(model.test.pred, test[, class], positive = \"Altered\")\n",
    "print(performance)\n",
    "print(performance$byClass)"
   ]
  },
  {
   "cell_type": "markdown",
   "metadata": {},
   "source": [
    "However the radial kernel performs worst than the linear one, predicting erronous altered, reducing its recall and  accuracy."
   ]
  },
  {
   "cell_type": "markdown",
   "metadata": {},
   "source": [
    "#### Polynomial"
   ]
  },
  {
   "cell_type": "markdown",
   "metadata": {},
   "source": [
    "The Polynomic kernel transform the input feature space following the formula:\n",
    "\n",
    "$$\n",
    "K(x_i, x_j) = (x_ix_j + c)^d\n",
    "$$\n",
    "\n",
    "where d is the polynomial degree and c the scale."
   ]
  },
  {
   "cell_type": "code",
   "execution_count": 223,
   "metadata": {},
   "outputs": [],
   "source": [
    "%%R\n",
    "set.seed(134)\n",
    "control <- trainControl(method = \"repeatedcv\", \n",
    "\t\t\t\t\t\tnumber = 10, \n",
    "\t\t\t\t\t\trepeats = 5)\n",
    "\n",
    "model.training <- train(class ~ ., \n",
    "\t\t\t\t\t\tdata = expanded_training, \n",
    "                        trControl = control,\n",
    "\t\t\t\t\t\tmethod = \"svmPoly\")"
   ]
  },
  {
   "cell_type": "code",
   "execution_count": 224,
   "metadata": {
    "scrolled": true
   },
   "outputs": [
    {
     "data": {
      "text/plain": [
       "Support Vector Machines with Polynomial Kernel \n",
       "\n",
       "118 samples\n",
       " 16 predictor\n",
       "  2 classes: 'Normal', 'Altered' \n",
       "\n",
       "No pre-processing\n",
       "Resampling: Cross-Validated (10 fold, repeated 5 times) \n",
       "Summary of sample sizes: 106, 105, 106, 107, 106, 106, ... \n",
       "Resampling results across tuning parameters:\n",
       "\n",
       "  degree  scale  C     Accuracy   Kappa    \n",
       "  1       0.001  0.25  0.5258275  0.0000000\n",
       "  1       0.001  0.50  0.5258275  0.0000000\n",
       "  1       0.001  1.00  0.5258275  0.0000000\n",
       "  1       0.010  0.25  0.5258275  0.0000000\n",
       "  1       0.010  0.50  0.6363636  0.2414802\n",
       "  1       0.010  1.00  0.7226923  0.4296643\n",
       "  1       0.100  0.25  0.7232517  0.4403861\n",
       "  1       0.100  0.50  0.7312587  0.4594540\n",
       "  1       0.100  1.00  0.7403263  0.4818838\n",
       "  2       0.001  0.25  0.5258275  0.0000000\n",
       "  2       0.001  0.50  0.5258275  0.0000000\n",
       "  2       0.001  1.00  0.5258275  0.0000000\n",
       "  2       0.010  0.25  0.6553030  0.2840471\n",
       "  2       0.010  0.50  0.7242075  0.4330850\n",
       "  2       0.010  1.00  0.7284266  0.4484723\n",
       "  2       0.100  0.25  0.8489161  0.7002571\n",
       "  2       0.100  0.50  0.8997436  0.8012183\n",
       "  2       0.100  1.00  0.9253963  0.8528854\n",
       "  3       0.001  0.25  0.5258275  0.0000000\n",
       "  3       0.001  0.50  0.5258275  0.0000000\n",
       "  3       0.001  1.00  0.5258275  0.0000000\n",
       "  3       0.010  0.25  0.7225175  0.4279977\n",
       "  3       0.010  0.50  0.7451166  0.4791800\n",
       "  3       0.010  1.00  0.7488578  0.4910271\n",
       "  3       0.100  0.25  0.9181935  0.8377668\n",
       "  3       0.100  0.50  0.9304662  0.8624434\n",
       "  3       0.100  1.00  0.9307692  0.8625029\n",
       "\n",
       "Accuracy was used to select the optimal model using the largest value.\n",
       "The final values used for the model were degree = 3, scale = 0.1 and C = 1.\n"
      ]
     },
     "metadata": {},
     "output_type": "display_data"
    },
    {
     "data": {
      "image/png": "[encoded data removed]"
     },
     "metadata": {},
     "output_type": "display_data"
    }
   ],
   "source": [
    "%%R\n",
    "print(model.training)\n",
    "plot(model.training)"
   ]
  },
  {
   "cell_type": "code",
   "execution_count": 225,
   "metadata": {
    "scrolled": true
   },
   "outputs": [
    {
     "data": {
      "text/plain": [
       "Confusion Matrix and Statistics\n",
       "\n",
       "          Reference\n",
       "Prediction Normal Altered\n",
       "   Normal      24       4\n",
       "   Altered      2       0\n",
       "                                          \n",
       "               Accuracy : 0.8             \n",
       "                 95% CI : (0.6143, 0.9229)\n",
       "    No Information Rate : 0.8667          \n",
       "    P-Value [Acc > NIR] : 0.9046          \n",
       "                                          \n",
       "                  Kappa : -0.0976         \n",
       " Mcnemar's Test P-Value : 0.6831          \n",
       "                                          \n",
       "            Sensitivity : 0.00000         \n",
       "            Specificity : 0.92308         \n",
       "         Pos Pred Value : 0.00000         \n",
       "         Neg Pred Value : 0.85714         \n",
       "             Prevalence : 0.13333         \n",
       "         Detection Rate : 0.00000         \n",
       "   Detection Prevalence : 0.06667         \n",
       "      Balanced Accuracy : 0.46154         \n",
       "                                          \n",
       "       'Positive' Class : Altered         \n",
       "                                          \n",
       "         Sensitivity          Specificity       Pos Pred Value \n",
       "          0.00000000           0.92307692           0.00000000 \n",
       "      Neg Pred Value            Precision               Recall \n",
       "          0.85714286           0.00000000           0.00000000 \n",
       "                  F1           Prevalence       Detection Rate \n",
       "                 NaN           0.13333333           0.00000000 \n",
       "Detection Prevalence    Balanced Accuracy \n",
       "          0.06666667           0.46153846 \n"
      ]
     },
     "metadata": {},
     "output_type": "display_data"
    }
   ],
   "source": [
    "%%R\n",
    "# Evaluate model on test set.\n",
    "model.test.pred <- predict(model.training, \n",
    "\t\t\t\t\t\t   test, \n",
    "\t\t\t\t\t\t   type = \"raw\",\n",
    "\t\t\t\t\t\t   norm.votes = TRUE)\n",
    "\n",
    "# Compute confusion matrix.\n",
    "performance <- confusionMatrix(model.test.pred, test[, class], positive = \"Altered\")\n",
    "print(performance)\n",
    "print(performance$byClass)"
   ]
  },
  {
   "cell_type": "markdown",
   "metadata": {},
   "source": [
    "Similarly to the radial kernel, the algorithm predict erroneous altered samples, although it misses less normal ones. "
   ]
  },
  {
   "cell_type": "markdown",
   "metadata": {},
   "source": [
    "**Summary SVM**: "
   ]
  },
  {
   "cell_type": "markdown",
   "metadata": {},
   "source": [
    "Conclusively, we can say that until now the best performing algorithm in terms of recall is the SVM with the linear kernel. Moreover, it seems that transformations of the feature space tend to decrease the accuracy of the algorithm, probably because they add noise to the space defined by the SMOTE expansion. "
   ]
  },
  {
   "cell_type": "markdown",
   "metadata": {},
   "source": [
    "## LogitBoost:"
   ]
  },
  {
   "cell_type": "markdown",
   "metadata": {},
   "source": [
    "LogitBoost, proposed by Friedman, Hastie & Tibshirani (2000) perform similar steps as the Adaboost, but rather than minimizing the exponential loss function, it minimizes the logistic loss function:\n",
    "\n",
    "$$\n",
    "log(1+e^{-y_i(h(X)^t \\beta + \\beta_0)})\n",
    "$$\n",
    "\n",
    "Moreover, here, the weak learners are added to predict a log-odds ratio rather than the $f(x)$ function:\n",
    "\n",
    "$$\n",
    "\\frac{1}{2} log(\\frac{P[y = 1 \\vert x]}{P[y = -1 \\vert x]}) = h(X)^t 1\n",
    "$$\n",
    "\n",
    "In fact, here the weights are updated in such a way that they reduce the variance of a Bernouilli distribution. "
   ]
  },
  {
   "cell_type": "markdown",
   "metadata": {},
   "source": [
    "**Pseudocode**\n",
    "\n",
    "**Input**: Sequence of N labeled examples. Number of Iterations to be performed.\n",
    "\n",
    "**Output**: The Strong learner as a weighted average of the weak learners.\n",
    "\n",
    "**For** t in 1 to T:\n",
    "\n",
    "$\\quad$ Give to every observation the same weight 1/N, p(x) = 1/2, $\\phi(X) = 0$\n",
    "\n",
    "$\\quad$ Update the weight as:\n",
    "\n",
    "$$\n",
    "w_i^{(t+1)} \\Leftarrow p^{(t)}(1-p^{(t)})\n",
    "$$\n",
    "\n",
    "$$\n",
    "z_i^{(t+1)} = \\frac{y_i - p^{(t)}(x_i)}{w_i^{(t)}}\n",
    "$$\n",
    "\n",
    "$\\quad$ Fit h(x) by weighted regression:\n",
    "\n",
    "$$\n",
    "h^{(t)}(x) = argmin_{h} \\sum_{i=1}^{N} w_{i}^{(t)}(z_{i}^{t} - h(x_i))^2 \n",
    "$$\n",
    "\n",
    "$\\quad$ Update $f(X)$:\n",
    "\n",
    "$$\n",
    "f(X)^{(t+1)} \\Leftarrow f(X)^{(t)} + \\frac{1}{2} h(X) \n",
    "$$\n",
    "\n",
    "$\\quad$ Update p(x):\n",
    "\n",
    "$$\n",
    "p(x) = \\frac{e^{f(X)}}{e^{f(X)} + e^{-f(X)}}\n",
    "$$\n",
    "\n",
    "**Endfor**\n",
    "\n",
    "**Return** Optimal $f(X)$ and $\\phi(X) = sign(f(X))$"
   ]
  },
  {
   "cell_type": "markdown",
   "metadata": {},
   "source": [
    "As we can see, LogitBoost can be summarized as a logistic regression using additively weak learners."
   ]
  },
  {
   "cell_type": "code",
   "execution_count": 23,
   "metadata": {},
   "outputs": [],
   "source": [
    "%%R\n",
    "set.seed(134)\n",
    "control <- trainControl(method = \"repeatedcv\", \n",
    "\t\t\t\t\t\tnumber = 10, \n",
    "\t\t\t\t\t\trepeats = 5)\n",
    "\n",
    "model.training <- train(class ~ ., \n",
    "\t\t\t\t\t\tdata = expanded_training, \n",
    "                        trControl = control,\n",
    "\t\t\t\t\t\tmethod = \"LogitBoost\")"
   ]
  },
  {
   "cell_type": "code",
   "execution_count": 24,
   "metadata": {
    "scrolled": true
   },
   "outputs": [
    {
     "data": {
      "text/plain": [
       "Boosted Logistic Regression \n",
       "\n",
       "118 samples\n",
       " 16 predictor\n",
       "  2 classes: 'Normal', 'Altered' \n",
       "\n",
       "No pre-processing\n",
       "Resampling: Cross-Validated (10 fold, repeated 5 times) \n",
       "Summary of sample sizes: 107, 106, 107, 106, 106, 106, ... \n",
       "Resampling results across tuning parameters:\n",
       "\n",
       "  nIter  Accuracy   Kappa    \n",
       "  11     0.8339860  0.6669519\n",
       "  21     0.8692075  0.7370717\n",
       "  31     0.8770862  0.7532262\n",
       "\n",
       "Accuracy was used to select the optimal model using the largest value.\n",
       "The final value used for the model was nIter = 31.\n"
      ]
     },
     "metadata": {},
     "output_type": "display_data"
    },
    {
     "data": {
      "image/png": "[encoded data removed]"
     },
     "metadata": {},
     "output_type": "display_data"
    }
   ],
   "source": [
    "%%R\n",
    "print(model.training)\n",
    "plot(model.training)"
   ]
  },
  {
   "cell_type": "code",
   "execution_count": 25,
   "metadata": {
    "scrolled": true
   },
   "outputs": [
    {
     "data": {
      "text/plain": [
       "Confusion Matrix and Statistics\n",
       "\n",
       "          Reference\n",
       "Prediction Normal Altered\n",
       "   Normal      21       2\n",
       "   Altered      5       2\n",
       "                                          \n",
       "               Accuracy : 0.7667          \n",
       "                 95% CI : (0.5772, 0.9007)\n",
       "    No Information Rate : 0.8667          \n",
       "    P-Value [Acc > NIR] : 0.9613          \n",
       "                                          \n",
       "                  Kappa : 0.2336          \n",
       " Mcnemar's Test P-Value : 0.4497          \n",
       "                                          \n",
       "            Sensitivity : 0.50000         \n",
       "            Specificity : 0.80769         \n",
       "         Pos Pred Value : 0.28571         \n",
       "         Neg Pred Value : 0.91304         \n",
       "             Prevalence : 0.13333         \n",
       "         Detection Rate : 0.06667         \n",
       "   Detection Prevalence : 0.23333         \n",
       "      Balanced Accuracy : 0.65385         \n",
       "                                          \n",
       "       'Positive' Class : Altered         \n",
       "                                          \n",
       "         Sensitivity          Specificity       Pos Pred Value \n",
       "          0.50000000           0.80769231           0.28571429 \n",
       "      Neg Pred Value            Precision               Recall \n",
       "          0.91304348           0.28571429           0.50000000 \n",
       "                  F1           Prevalence       Detection Rate \n",
       "          0.36363636           0.13333333           0.06666667 \n",
       "Detection Prevalence    Balanced Accuracy \n",
       "          0.23333333           0.65384615 \n"
      ]
     },
     "metadata": {},
     "output_type": "display_data"
    }
   ],
   "source": [
    "%%R\n",
    "# Evaluate model on test set.\n",
    "model.test.pred <- predict(model.training, \n",
    "\t\t\t\t\t\t   test, \n",
    "\t\t\t\t\t\t   type = \"raw\",\n",
    "\t\t\t\t\t\t   norm.votes = TRUE)\n",
    "\n",
    "# Compute confusion matrix.\n",
    "performance <- confusionMatrix(model.test.pred, test[, class], positive = \"Altered\")\n",
    "print(performance)\n",
    "print(performance$byClass)"
   ]
  },
  {
   "cell_type": "markdown",
   "metadata": {},
   "source": [
    "LogitBoost seems to have the best balance between accuracy and recall, being able to detect half of the altered samples without misclassifying too many normal samples."
   ]
  },
  {
   "cell_type": "markdown",
   "metadata": {},
   "source": [
    "### Logistic Regression"
   ]
  },
  {
   "cell_type": "markdown",
   "metadata": {},
   "source": [
    "Finally, we decided to fit a logistic regression whose negative log-likelihood can be shown to be the function optimized by the large margin classifier with logistic loss function. "
   ]
  },
  {
   "cell_type": "code",
   "execution_count": 73,
   "metadata": {},
   "outputs": [],
   "source": [
    "%%R\n",
    "levels(expanded_training$class) <- c(\"0\", \"1\") #We change the class labels so that they can be used in the glm function\n",
    "expanded_training$class <- as.numeric(levels(expanded_training$class))[expanded_training$class]"
   ]
  },
  {
   "cell_type": "code",
   "execution_count": 74,
   "metadata": {},
   "outputs": [],
   "source": [
    "%%R\n",
    "levels(test$diagnosis) <- c(\"0\", \"1\")\n",
    "test$diagnosis <- as.numeric(levels(test$diagnosis))[test$diagnosis]"
   ]
  },
  {
   "cell_type": "code",
   "execution_count": 75,
   "metadata": {
    "scrolled": true
   },
   "outputs": [
    {
     "data": {
      "text/plain": [
       "\n",
       "Call:\n",
       "glm(formula = class ~ ., family = binomial(link = \"logit\"), data = expanded_training)\n",
       "\n",
       "Deviance Residuals: \n",
       "    Min       1Q   Median       3Q      Max  \n",
       "-4.0573  -0.1967  -0.0002   0.6948   1.1521  \n",
       "\n",
       "Coefficients:\n",
       "                   Estimate Std. Error z value Pr(>|z|)    \n",
       "(Intercept)        -10.8771     3.1709  -3.430 0.000603 ***\n",
       "seasonspring        -1.3836     1.5438  -0.896 0.370157    \n",
       "seasonsummer        -5.4908  2648.3347  -0.002 0.998346    \n",
       "seasonfall           2.6806     1.1493   2.332 0.019686 *  \n",
       "age                  2.9791     1.0617   2.806 0.005015 ** \n",
       "chdiseases1         -0.8091     1.2136  -0.667 0.504944    \n",
       "accident1            1.7150     1.0553   1.625 0.104144    \n",
       "sintervention1      -0.5784     0.8706  -0.664 0.506461    \n",
       "hfevermore3m         6.2054     2.1075   2.944 0.003236 ** \n",
       "hfeverless3m         4.4376     1.8538   2.394 0.016677 *  \n",
       "alcoholVeryHigh    -16.9619  3956.1808  -0.004 0.996579    \n",
       "alcoholHigh         -8.2787  3956.1817  -0.002 0.998330    \n",
       "alcoholMedium        8.5236     2.4683   3.453 0.000554 ***\n",
       "alcoholLow           6.9975     2.1312   3.283 0.001026 ** \n",
       "smokingOccasional   -3.8032     1.4354  -2.649 0.008061 ** \n",
       "smokingDaily        -3.1914     1.4260  -2.238 0.025222 *  \n",
       "sitting              4.1605     1.2062   3.449 0.000562 ***\n",
       "---\n",
       "Signif. codes:  0 ‘***’ 0.001 ‘**’ 0.01 ‘*’ 0.05 ‘.’ 0.1 ‘ ’ 1\n",
       "\n",
       "(Dispersion parameter for binomial family taken to be 1)\n",
       "\n",
       "    Null deviance: 163.278  on 117  degrees of freedom\n",
       "Residual deviance:  77.653  on 101  degrees of freedom\n",
       "AIC: 111.65\n",
       "\n",
       "Number of Fisher Scoring iterations: 16\n",
       "\n"
      ]
     },
     "metadata": {},
     "output_type": "display_data"
    }
   ],
   "source": [
    "%%R\n",
    "modellog <- glm(class ~ ., family=binomial(link=\"logit\"), data = expanded_training)\n",
    "summary(modellog)"
   ]
  },
  {
   "cell_type": "code",
   "execution_count": 77,
   "metadata": {},
   "outputs": [],
   "source": [
    "%%R \n",
    "predictions <-round(predict(modellog, test, type = \"response\"), 0)\n"
   ]
  },
  {
   "cell_type": "code",
   "execution_count": 78,
   "metadata": {
    "scrolled": true
   },
   "outputs": [
    {
     "data": {
      "image/png": "[encoded data removed]"
     },
     "metadata": {},
     "output_type": "display_data"
    }
   ],
   "source": [
    "%%R\n",
    "pROC::plot.roc(test$diagnosis, predictions,\n",
    "              print.auc = TRUE,\n",
    "              grid = TRUE,\n",
    "              auc.polygon = TRUE)"
   ]
  },
  {
   "cell_type": "code",
   "execution_count": 79,
   "metadata": {
    "scrolled": true
   },
   "outputs": [
    {
     "data": {
      "text/plain": [
       "Confusion Matrix and Statistics\n",
       "\n",
       "          Reference\n",
       "Prediction  0  1\n",
       "         0 19  2\n",
       "         1  7  2\n",
       "                                         \n",
       "               Accuracy : 0.7            \n",
       "                 95% CI : (0.506, 0.8527)\n",
       "    No Information Rate : 0.8667         \n",
       "    P-Value [Acc > NIR] : 0.9958         \n",
       "                                         \n",
       "                  Kappa : 0.1509         \n",
       " Mcnemar's Test P-Value : 0.1824         \n",
       "                                         \n",
       "            Sensitivity : 0.7308         \n",
       "            Specificity : 0.5000         \n",
       "         Pos Pred Value : 0.9048         \n",
       "         Neg Pred Value : 0.2222         \n",
       "             Prevalence : 0.8667         \n",
       "         Detection Rate : 0.6333         \n",
       "   Detection Prevalence : 0.7000         \n",
       "      Balanced Accuracy : 0.6154         \n",
       "                                         \n",
       "       'Positive' Class : 0              \n",
       "                                         \n"
      ]
     },
     "metadata": {},
     "output_type": "display_data"
    }
   ],
   "source": [
    "%%R\n",
    "confusionMatrix(as.factor(predictions), as.factor(test[, class]))"
   ]
  },
  {
   "cell_type": "markdown",
   "metadata": {},
   "source": [
    "Finally, as expected, the logistic regression performs equally to the simple large margin classifier model with logistic loss, moreover, the AUC is the same as the one of the Real Adaboost. Nevertheless, coefficients differ, probably because of the regularization parameter of the large margin classifier."
   ]
  },
  {
   "cell_type": "markdown",
   "metadata": {},
   "source": [
    "## Conclusion"
   ]
  },
  {
   "cell_type": "markdown",
   "metadata": {},
   "source": [
    "Conclusively, SVM with linear kernel might be the algorithm selected if our objective is to maximize recall, whereas LogitBoost is a great balanced option that achieve a decent recall while keeping good accuracy. It is important to remark that simple algorithms as the basic ones, which just optimized different loss functions, can achieve better results than sophisticated algorithms as AdaBoost or SVM with radial or polynomial kernel, in fact, they obtained results similar to the one of logistic regression. This result is supported by the work of Lee (2012) which states that \"modeling at least the conditional probability helps use data more efficiently than maximizing classification margins under the hinge loss or the exponential loss\". Moreover, as it is also stated in his work, SVM tend to be more efficient than boosting (as seen by the computation time and the resulst of linear SVM and Adaboost) when many observations lay on the boundary between the classes and data is almost linearly separable. \n",
    "\n",
    "Possible expansions for this project could be:\n",
    "\n",
    "1. Trying different regularization functions apart from Ridge (square of the norm).\n",
    "2. Implement a regularization parameter which punish grouped categorical variables rather than individual ones (Grouped LASSO) as proposed by Yang and Zou (2015).\n",
    "3. Implement more variations of the boosting algorithms as the XGboost. \n",
    "4. Trying different variations of the SMOTE technique such as ADASYN or Safe-SMOTE.\n",
    "5. Given a bigger fragment of the dataset we could combine over-sampling of the minority class using SMOTE with under sampling of the majority class using Ripper since, as stated by Chawla, this combination improve even more the learning of the algorithms.\n",
    "\n",
    "\n"
   ]
  },
  {
   "cell_type": "markdown",
   "metadata": {},
   "source": [
    "## References"
   ]
  },
  {
   "cell_type": "markdown",
   "metadata": {},
   "source": [
    "Altun Y., Hofman T. Large Margin Methods for Label Sequence Learning. INTERSPEECH, 2003.\n",
    "\n",
    "Chawla N., Bowyer K., Hall L., Kegelmeyer W. SMOTE: Synthetic Minority Over-Sample Technique. Journal of Artificial Intelligence Research Vol. 16, 321–357, 2002.\n",
    "\n",
    "Friedman J., Hastie T., Tibshirani R. Additive Logistic Regression: A Statistical View of Boosting. The Annals of Statistics Vol. 20, Issue 2, 337-407, 2000.\n",
    "\n",
    "Freund Y., Schapire R. A Short Introduction to Boosting. Journal of Japanese Society for Artificial Intelligence Vol. 14, Issue 5, 771-780, 1999.\n",
    "\n",
    "Freund Y., Schapire R. A decision-theoretic generalization of on-line learning and an application to boosting. Journal of Computer and System Sciences Vol. 55, Issue 1, 119–139, 1997.\n",
    "\n",
    "Gil D., Girela J., Juan J., Gomez-Torres M., Johnsson M. Predicting seminal quality with artificial intelligence methods. Expert Systems with Applications Vol. 39, 12546 -12573, 2012. \n",
    "\n",
    "Lee Y. Smooth Support Vector Machines. University of Winsconsin. 2000.\n",
    "\n",
    "Lee Y., Wang R. Does modeling lead tomore accurate classification?:  A study of relative efficiency in linear classification. Technical Report No. 869, 2012.\n",
    "\n",
    "Smola A., Bartlett P., Scholkopf B., Schuurmans D. Advances in Large Margin Classifiers. The MIT Press. 1999.\n",
    "\n",
    "Smola A. Scholkopf B. On a Kernel􏰁based Metho d for Pattern Recognition􏰀 Regression􏰀 Approximation􏰀 and Operator Inversion. Algorithmica Vol. 22, Issue 1, 211-231, 1998. \n",
    "\n",
    "Tzelepis C., Mezaris V., Patras I. Linear Maximum Margin Classifier for Learning from Uncertain Data. IEEE Transactions on Pattern Analysis and Machine Intelligence Vol. 40, Issue 12, 2948 - 2962, 2017.\n",
    "\n",
    "Yang Y., Zou H. A Fast Unified Algorithm for Solving Group-Lasso Penalized Learning Problems. Statistics and Computing Vol. 25, Issue 6, 1129–1141, 2015.\n",
    "\n",
    "\n"
   ]
  },
  {
   "cell_type": "code",
   "execution_count": null,
   "metadata": {},
   "outputs": [],
   "source": []
  }
 ],
 "metadata": {
  "kernelspec": {
   "display_name": "Python 3",
   "language": "python",
   "name": "python3"
  },
  "language_info": {
   "codemirror_mode": {
    "name": "ipython",
    "version": 3
   },
   "file_extension": ".py",
   "mimetype": "text/x-python",
   "name": "python",
   "nbconvert_exporter": "python",
   "pygments_lexer": "ipython3",
   "version": "3.6.5"
  }
 },
 "nbformat": 4,
 "nbformat_minor": 2
}
